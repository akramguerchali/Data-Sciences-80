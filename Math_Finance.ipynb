{
  "nbformat": 4,
  "nbformat_minor": 0,
  "metadata": {
    "colab": {
      "provenance": []
    },
    "kernelspec": {
      "name": "python3",
      "display_name": "Python 3"
    },
    "language_info": {
      "name": "python"
    }
  },
  "cells": [
    {
      "cell_type": "code",
      "execution_count": 29,
      "metadata": {
        "id": "zXr2D18wSW7t"
      },
      "outputs": [],
      "source": [
        "import pandas as pd\n",
        "import numpy as np\n",
        "import matplotlib.pyplot as plt\n",
        "import multiprocessing as mp\n",
        "import math"
      ]
    },
    {
      "cell_type": "code",
      "source": [
        "def simulate_geometric_browian_motion(p):\n",
        "    M, I = p\n",
        "       # time steps, paths\n",
        "    S0 = 178.38; r = 0.058; sigma= 0.24; T = 3/12\n",
        "\n",
        "    dt = T / M\n",
        "    paths = np.zeros((M + 1, I))\n",
        "    paths[0] = S0\n",
        "    for t in range(1, M + 1 ):\n",
        "        paths[t] = paths[t - 1 ] * np.exp((r - 0.5**sigma ** 2) * dt + sigma * math.sqrt(dt) * np.random.standard_normal(I))\n",
        "    return paths"
      ],
      "metadata": {
        "id": "ZdcdFOZASziQ"
      },
      "execution_count": 22,
      "outputs": []
    },
    {
      "cell_type": "code",
      "source": [
        "paths = simulate_geometric_browian_motion((5, 2))"
      ],
      "metadata": {
        "id": "msdHHevEUcqX"
      },
      "execution_count": 23,
      "outputs": []
    },
    {
      "cell_type": "code",
      "source": [
        "paths"
      ],
      "metadata": {
        "colab": {
          "base_uri": "https://localhost:8080/"
        },
        "id": "BVLu3cVgUuse",
        "outputId": "079b6d41-0dc3-4cf6-fd8f-23245ca5f05a"
      },
      "execution_count": 24,
      "outputs": [
        {
          "output_type": "execute_result",
          "data": {
            "text/plain": [
              "array([[178.38      , 178.38      ],\n",
              "       [177.90390325, 166.60026834],\n",
              "       [163.62990512, 151.43701056],\n",
              "       [148.92731041, 146.64654612],\n",
              "       [130.73185849, 139.70462129],\n",
              "       [123.98679264, 139.31173671]])"
            ]
          },
          "metadata": {},
          "execution_count": 24
        }
      ]
    },
    {
      "cell_type": "code",
      "source": [
        "S0 = 178.83\n",
        "T = 126.53\n",
        "r =0.05\n",
        "vola = 0.054\n"
      ],
      "metadata": {
        "id": "o2S5a3LFYxxU"
      },
      "execution_count": 38,
      "outputs": []
    },
    {
      "cell_type": "code",
      "source": [
        "M = 1000\n",
        "dt = T / M\n",
        "df = np.exp(-r *dt)"
      ],
      "metadata": {
        "id": "KX59iwe1Y8Mc"
      },
      "execution_count": 39,
      "outputs": []
    },
    {
      "cell_type": "code",
      "source": [
        " u = np.exp(vola * np.sqrt(dt)) # Up-Movement\n",
        " d = 1 /u # Down-Movement\n",
        " q = (np.exp(r * dt) -d) / (u - d) #martignale probabilty"
      ],
      "metadata": {
        "id": "pZU8ZuDOZOOn"
      },
      "execution_count": 40,
      "outputs": []
    },
    {
      "cell_type": "code",
      "source": [
        "q"
      ],
      "metadata": {
        "colab": {
          "base_uri": "https://localhost:8080/"
        },
        "id": "sf5OBdInb8W0",
        "outputId": "4e1b62ec-bfc2-486b-9144-69a2f8adabd6"
      },
      "execution_count": 41,
      "outputs": [
        {
          "output_type": "execute_result",
          "data": {
            "text/plain": [
              "0.6603907367142511"
            ]
          },
          "metadata": {},
          "execution_count": 41
        }
      ]
    },
    {
      "cell_type": "code",
      "source": [
        "u"
      ],
      "metadata": {
        "colab": {
          "base_uri": "https://localhost:8080/"
        },
        "id": "XxzD1if6cYdc",
        "outputId": "4dfedaa1-58ee-4886-9074-06e2f5c2ea80"
      },
      "execution_count": 42,
      "outputs": [
        {
          "output_type": "execute_result",
          "data": {
            "text/plain": [
              "1.019394037676071"
            ]
          },
          "metadata": {},
          "execution_count": 42
        }
      ]
    },
    {
      "cell_type": "code",
      "source": [
        "d"
      ],
      "metadata": {
        "colab": {
          "base_uri": "https://localhost:8080/"
        },
        "id": "JClsezyXcZ91",
        "outputId": "89816a6e-4cad-4d70-8eaf-41b130c1765c"
      },
      "execution_count": 43,
      "outputs": [
        {
          "output_type": "execute_result",
          "data": {
            "text/plain": [
              "0.9809749351484496"
            ]
          },
          "metadata": {},
          "execution_count": 43
        }
      ]
    },
    {
      "cell_type": "code",
      "source": [
        "S = np.zeros(( M + 1, M + 1 ), dtype=np.float64)"
      ],
      "metadata": {
        "id": "5kyKMikxZgtZ"
      },
      "execution_count": 32,
      "outputs": []
    },
    {
      "cell_type": "code",
      "source": [
        "def binomial_py(strike):\n",
        "\n",
        "\n",
        "\n",
        "   S[0, 0] = S0\n",
        "   z1 = 0\n",
        "   for j in range(1, M + 1, 1):\n",
        "       z1 = z1 + 1\n",
        "       for i in range(z1 + 1):\n",
        "           S[i, j] = S[0, 0] * (u ** j) * (d ** (i * 2))\n",
        "\n",
        "    # lOOP2 -Inner value\n",
        "   iv = np.zeros((M + 1, M + 1 ), dtype=np.float64)\n",
        "   z2 = 0\n",
        "   for j in range(1, M + 1 , 1):\n",
        "       for i in range (z2 + 1):\n",
        "           iv[i, j ] =max(S[i ,j] - strike, 0)\n",
        "       z2 = z2 +1\n",
        "  # LOOP Valuation\n",
        "   pv = np.zeros((M + 1, M+1), dtype=np.float64)\n",
        "   pv[:, M] = iv[:, M]\n",
        "   z3 = M +1\n",
        "   for j in range(M- 1, -1, -1):\n",
        "       z3 = z3 -1\n",
        "       for i in range(z3):\n",
        "           pv[i, j] = (q * pv[i, j +1]+\n",
        "                       (1- q) * pv[i +1 , j + 1]) *df\n",
        "   return pv[0,0]"
      ],
      "metadata": {
        "id": "zveH9lODZz-k"
      },
      "execution_count": 44,
      "outputs": []
    },
    {
      "cell_type": "code",
      "source": [
        "%time round(binomial_py(100), 3)"
      ],
      "metadata": {
        "colab": {
          "base_uri": "https://localhost:8080/"
        },
        "id": "EX1BELf8c1Qs",
        "outputId": "0dfe5711-ae7b-48db-c5b6-8925188c51f0"
      },
      "execution_count": 45,
      "outputs": [
        {
          "output_type": "stream",
          "name": "stdout",
          "text": [
            "CPU times: user 3.78 s, sys: 153 ms, total: 3.94 s\n",
            "Wall time: 4.06 s\n"
          ]
        },
        {
          "output_type": "execute_result",
          "data": {
            "text/plain": [
              "178.651"
            ]
          },
          "metadata": {},
          "execution_count": 45
        }
      ]
    }
  ]
}