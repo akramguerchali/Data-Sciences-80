{
  "nbformat": 4,
  "nbformat_minor": 0,
  "metadata": {
    "colab": {
      "provenance": []
    },
    "kernelspec": {
      "name": "python3",
      "display_name": "Python 3"
    },
    "language_info": {
      "name": "python"
    }
  },
  "cells": [
    {
      "cell_type": "code",
      "execution_count": 1,
      "metadata": {
        "id": "zTLj9GmziaR-"
      },
      "outputs": [],
      "source": [
        "import yfinance as yf\n",
        "import pandas as pd\n",
        "import numpy as np\n",
        "import matplotlib.pyplot as plt\n",
        "import numpy.random as npr\n",
        "\n"
      ]
    },
    {
      "cell_type": "code",
      "source": [
        "dataset = ['BAC']\n",
        "for datasets in dataset :\n",
        "    Ticker = yf.Ticker(datasets)\n",
        "    data = Ticker.history(start='2023-09-01', end='2023-10-13')\n",
        "    filename=f'{dataset}_data.csv'\n",
        "    data.to_csv(filename)\n",
        "    print(f'Download data for {dataset} and saved as {filename}')"
      ],
      "metadata": {
        "colab": {
          "base_uri": "https://localhost:8080/"
        },
        "id": "taV36BRSi-kf",
        "outputId": "821d5924-8a0f-4e69-e5e5-bf99815ce4c2"
      },
      "execution_count": 2,
      "outputs": [
        {
          "output_type": "stream",
          "name": "stdout",
          "text": [
            "Download data for ['BAC'] and saved as ['BAC']_data.csv\n"
          ]
        }
      ]
    },
    {
      "cell_type": "code",
      "source": [
        "Ticker = 'BAC'\n",
        "\n",
        "start_date = '2023-09-01'\n",
        "end_date = '2023-10-13'\n",
        "data = yf.download(Ticker, start=start_date, end=end_date)"
      ],
      "metadata": {
        "colab": {
          "base_uri": "https://localhost:8080/"
        },
        "id": "750Pc8Zfa8XY",
        "outputId": "27cec72c-a6cd-4f28-bf16-0f21f297eaa5"
      },
      "execution_count": 3,
      "outputs": [
        {
          "output_type": "stream",
          "name": "stdout",
          "text": [
            "\r[*********************100%%**********************]  1 of 1 completed\n"
          ]
        }
      ]
    },
    {
      "cell_type": "code",
      "source": [
        "symbols = data.columns"
      ],
      "metadata": {
        "id": "XXLW20cnmSP3"
      },
      "execution_count": 11,
      "outputs": []
    },
    {
      "cell_type": "code",
      "source": [
        "symbols"
      ],
      "metadata": {
        "colab": {
          "base_uri": "https://localhost:8080/"
        },
        "id": "Eyso8X4umjCk",
        "outputId": "ebd760f1-a01c-444d-9bb4-218fb02c9f96"
      },
      "execution_count": 12,
      "outputs": [
        {
          "output_type": "execute_result",
          "data": {
            "text/plain": [
              "Index(['Open', 'High', 'Low', 'Close', 'Adj Close', 'Volume'], dtype='object')"
            ]
          },
          "metadata": {},
          "execution_count": 12
        }
      ]
    },
    {
      "cell_type": "code",
      "source": [
        "noa = len(symbols)"
      ],
      "metadata": {
        "id": "cF34NhIgmmJN"
      },
      "execution_count": 13,
      "outputs": []
    },
    {
      "cell_type": "code",
      "source": [
        "data.head()"
      ],
      "metadata": {
        "colab": {
          "base_uri": "https://localhost:8080/",
          "height": 238
        },
        "id": "DLoZVOdXbPyc",
        "outputId": "fec7265a-d487-487b-c1f0-a09f0c2965bd"
      },
      "execution_count": 4,
      "outputs": [
        {
          "output_type": "execute_result",
          "data": {
            "text/plain": [
              "                 Open       High        Low      Close  Adj Close    Volume\n",
              "Date                                                                       \n",
              "2023-09-01  28.760000  29.129999  28.760000  28.980000  28.980000  35192000\n",
              "2023-09-05  28.940001  29.120001  28.500000  28.650000  28.650000  46543600\n",
              "2023-09-06  28.400000  28.559999  28.120001  28.389999  28.389999  45022600\n",
              "2023-09-07  28.410000  28.549999  28.059999  28.129999  28.129999  35023600\n",
              "2023-09-08  28.120001  28.379999  27.959999  28.360001  28.360001  36513900"
            ],
            "text/html": [
              "\n",
              "  <div id=\"df-48e3c286-261a-4fd3-8335-a7717202de08\" class=\"colab-df-container\">\n",
              "    <div>\n",
              "<style scoped>\n",
              "    .dataframe tbody tr th:only-of-type {\n",
              "        vertical-align: middle;\n",
              "    }\n",
              "\n",
              "    .dataframe tbody tr th {\n",
              "        vertical-align: top;\n",
              "    }\n",
              "\n",
              "    .dataframe thead th {\n",
              "        text-align: right;\n",
              "    }\n",
              "</style>\n",
              "<table border=\"1\" class=\"dataframe\">\n",
              "  <thead>\n",
              "    <tr style=\"text-align: right;\">\n",
              "      <th></th>\n",
              "      <th>Open</th>\n",
              "      <th>High</th>\n",
              "      <th>Low</th>\n",
              "      <th>Close</th>\n",
              "      <th>Adj Close</th>\n",
              "      <th>Volume</th>\n",
              "    </tr>\n",
              "    <tr>\n",
              "      <th>Date</th>\n",
              "      <th></th>\n",
              "      <th></th>\n",
              "      <th></th>\n",
              "      <th></th>\n",
              "      <th></th>\n",
              "      <th></th>\n",
              "    </tr>\n",
              "  </thead>\n",
              "  <tbody>\n",
              "    <tr>\n",
              "      <th>2023-09-01</th>\n",
              "      <td>28.760000</td>\n",
              "      <td>29.129999</td>\n",
              "      <td>28.760000</td>\n",
              "      <td>28.980000</td>\n",
              "      <td>28.980000</td>\n",
              "      <td>35192000</td>\n",
              "    </tr>\n",
              "    <tr>\n",
              "      <th>2023-09-05</th>\n",
              "      <td>28.940001</td>\n",
              "      <td>29.120001</td>\n",
              "      <td>28.500000</td>\n",
              "      <td>28.650000</td>\n",
              "      <td>28.650000</td>\n",
              "      <td>46543600</td>\n",
              "    </tr>\n",
              "    <tr>\n",
              "      <th>2023-09-06</th>\n",
              "      <td>28.400000</td>\n",
              "      <td>28.559999</td>\n",
              "      <td>28.120001</td>\n",
              "      <td>28.389999</td>\n",
              "      <td>28.389999</td>\n",
              "      <td>45022600</td>\n",
              "    </tr>\n",
              "    <tr>\n",
              "      <th>2023-09-07</th>\n",
              "      <td>28.410000</td>\n",
              "      <td>28.549999</td>\n",
              "      <td>28.059999</td>\n",
              "      <td>28.129999</td>\n",
              "      <td>28.129999</td>\n",
              "      <td>35023600</td>\n",
              "    </tr>\n",
              "    <tr>\n",
              "      <th>2023-09-08</th>\n",
              "      <td>28.120001</td>\n",
              "      <td>28.379999</td>\n",
              "      <td>27.959999</td>\n",
              "      <td>28.360001</td>\n",
              "      <td>28.360001</td>\n",
              "      <td>36513900</td>\n",
              "    </tr>\n",
              "  </tbody>\n",
              "</table>\n",
              "</div>\n",
              "    <div class=\"colab-df-buttons\">\n",
              "\n",
              "  <div class=\"colab-df-container\">\n",
              "    <button class=\"colab-df-convert\" onclick=\"convertToInteractive('df-48e3c286-261a-4fd3-8335-a7717202de08')\"\n",
              "            title=\"Convert this dataframe to an interactive table.\"\n",
              "            style=\"display:none;\">\n",
              "\n",
              "  <svg xmlns=\"http://www.w3.org/2000/svg\" height=\"24px\" viewBox=\"0 -960 960 960\">\n",
              "    <path d=\"M120-120v-720h720v720H120Zm60-500h600v-160H180v160Zm220 220h160v-160H400v160Zm0 220h160v-160H400v160ZM180-400h160v-160H180v160Zm440 0h160v-160H620v160ZM180-180h160v-160H180v160Zm440 0h160v-160H620v160Z\"/>\n",
              "  </svg>\n",
              "    </button>\n",
              "\n",
              "  <style>\n",
              "    .colab-df-container {\n",
              "      display:flex;\n",
              "      gap: 12px;\n",
              "    }\n",
              "\n",
              "    .colab-df-convert {\n",
              "      background-color: #E8F0FE;\n",
              "      border: none;\n",
              "      border-radius: 50%;\n",
              "      cursor: pointer;\n",
              "      display: none;\n",
              "      fill: #1967D2;\n",
              "      height: 32px;\n",
              "      padding: 0 0 0 0;\n",
              "      width: 32px;\n",
              "    }\n",
              "\n",
              "    .colab-df-convert:hover {\n",
              "      background-color: #E2EBFA;\n",
              "      box-shadow: 0px 1px 2px rgba(60, 64, 67, 0.3), 0px 1px 3px 1px rgba(60, 64, 67, 0.15);\n",
              "      fill: #174EA6;\n",
              "    }\n",
              "\n",
              "    .colab-df-buttons div {\n",
              "      margin-bottom: 4px;\n",
              "    }\n",
              "\n",
              "    [theme=dark] .colab-df-convert {\n",
              "      background-color: #3B4455;\n",
              "      fill: #D2E3FC;\n",
              "    }\n",
              "\n",
              "    [theme=dark] .colab-df-convert:hover {\n",
              "      background-color: #434B5C;\n",
              "      box-shadow: 0px 1px 3px 1px rgba(0, 0, 0, 0.15);\n",
              "      filter: drop-shadow(0px 1px 2px rgba(0, 0, 0, 0.3));\n",
              "      fill: #FFFFFF;\n",
              "    }\n",
              "  </style>\n",
              "\n",
              "    <script>\n",
              "      const buttonEl =\n",
              "        document.querySelector('#df-48e3c286-261a-4fd3-8335-a7717202de08 button.colab-df-convert');\n",
              "      buttonEl.style.display =\n",
              "        google.colab.kernel.accessAllowed ? 'block' : 'none';\n",
              "\n",
              "      async function convertToInteractive(key) {\n",
              "        const element = document.querySelector('#df-48e3c286-261a-4fd3-8335-a7717202de08');\n",
              "        const dataTable =\n",
              "          await google.colab.kernel.invokeFunction('convertToInteractive',\n",
              "                                                    [key], {});\n",
              "        if (!dataTable) return;\n",
              "\n",
              "        const docLinkHtml = 'Like what you see? Visit the ' +\n",
              "          '<a target=\"_blank\" href=https://colab.research.google.com/notebooks/data_table.ipynb>data table notebook</a>'\n",
              "          + ' to learn more about interactive tables.';\n",
              "        element.innerHTML = '';\n",
              "        dataTable['output_type'] = 'display_data';\n",
              "        await google.colab.output.renderOutput(dataTable, element);\n",
              "        const docLink = document.createElement('div');\n",
              "        docLink.innerHTML = docLinkHtml;\n",
              "        element.appendChild(docLink);\n",
              "      }\n",
              "    </script>\n",
              "  </div>\n",
              "\n",
              "\n",
              "<div id=\"df-f96a7797-4840-4991-899a-391f310823d6\">\n",
              "  <button class=\"colab-df-quickchart\" onclick=\"quickchart('df-f96a7797-4840-4991-899a-391f310823d6')\"\n",
              "            title=\"Suggest charts.\"\n",
              "            style=\"display:none;\">\n",
              "\n",
              "<svg xmlns=\"http://www.w3.org/2000/svg\" height=\"24px\"viewBox=\"0 0 24 24\"\n",
              "     width=\"24px\">\n",
              "    <g>\n",
              "        <path d=\"M19 3H5c-1.1 0-2 .9-2 2v14c0 1.1.9 2 2 2h14c1.1 0 2-.9 2-2V5c0-1.1-.9-2-2-2zM9 17H7v-7h2v7zm4 0h-2V7h2v10zm4 0h-2v-4h2v4z\"/>\n",
              "    </g>\n",
              "</svg>\n",
              "  </button>\n",
              "\n",
              "<style>\n",
              "  .colab-df-quickchart {\n",
              "      --bg-color: #E8F0FE;\n",
              "      --fill-color: #1967D2;\n",
              "      --hover-bg-color: #E2EBFA;\n",
              "      --hover-fill-color: #174EA6;\n",
              "      --disabled-fill-color: #AAA;\n",
              "      --disabled-bg-color: #DDD;\n",
              "  }\n",
              "\n",
              "  [theme=dark] .colab-df-quickchart {\n",
              "      --bg-color: #3B4455;\n",
              "      --fill-color: #D2E3FC;\n",
              "      --hover-bg-color: #434B5C;\n",
              "      --hover-fill-color: #FFFFFF;\n",
              "      --disabled-bg-color: #3B4455;\n",
              "      --disabled-fill-color: #666;\n",
              "  }\n",
              "\n",
              "  .colab-df-quickchart {\n",
              "    background-color: var(--bg-color);\n",
              "    border: none;\n",
              "    border-radius: 50%;\n",
              "    cursor: pointer;\n",
              "    display: none;\n",
              "    fill: var(--fill-color);\n",
              "    height: 32px;\n",
              "    padding: 0;\n",
              "    width: 32px;\n",
              "  }\n",
              "\n",
              "  .colab-df-quickchart:hover {\n",
              "    background-color: var(--hover-bg-color);\n",
              "    box-shadow: 0 1px 2px rgba(60, 64, 67, 0.3), 0 1px 3px 1px rgba(60, 64, 67, 0.15);\n",
              "    fill: var(--button-hover-fill-color);\n",
              "  }\n",
              "\n",
              "  .colab-df-quickchart-complete:disabled,\n",
              "  .colab-df-quickchart-complete:disabled:hover {\n",
              "    background-color: var(--disabled-bg-color);\n",
              "    fill: var(--disabled-fill-color);\n",
              "    box-shadow: none;\n",
              "  }\n",
              "\n",
              "  .colab-df-spinner {\n",
              "    border: 2px solid var(--fill-color);\n",
              "    border-color: transparent;\n",
              "    border-bottom-color: var(--fill-color);\n",
              "    animation:\n",
              "      spin 1s steps(1) infinite;\n",
              "  }\n",
              "\n",
              "  @keyframes spin {\n",
              "    0% {\n",
              "      border-color: transparent;\n",
              "      border-bottom-color: var(--fill-color);\n",
              "      border-left-color: var(--fill-color);\n",
              "    }\n",
              "    20% {\n",
              "      border-color: transparent;\n",
              "      border-left-color: var(--fill-color);\n",
              "      border-top-color: var(--fill-color);\n",
              "    }\n",
              "    30% {\n",
              "      border-color: transparent;\n",
              "      border-left-color: var(--fill-color);\n",
              "      border-top-color: var(--fill-color);\n",
              "      border-right-color: var(--fill-color);\n",
              "    }\n",
              "    40% {\n",
              "      border-color: transparent;\n",
              "      border-right-color: var(--fill-color);\n",
              "      border-top-color: var(--fill-color);\n",
              "    }\n",
              "    60% {\n",
              "      border-color: transparent;\n",
              "      border-right-color: var(--fill-color);\n",
              "    }\n",
              "    80% {\n",
              "      border-color: transparent;\n",
              "      border-right-color: var(--fill-color);\n",
              "      border-bottom-color: var(--fill-color);\n",
              "    }\n",
              "    90% {\n",
              "      border-color: transparent;\n",
              "      border-bottom-color: var(--fill-color);\n",
              "    }\n",
              "  }\n",
              "</style>\n",
              "\n",
              "  <script>\n",
              "    async function quickchart(key) {\n",
              "      const quickchartButtonEl =\n",
              "        document.querySelector('#' + key + ' button');\n",
              "      quickchartButtonEl.disabled = true;  // To prevent multiple clicks.\n",
              "      quickchartButtonEl.classList.add('colab-df-spinner');\n",
              "      try {\n",
              "        const charts = await google.colab.kernel.invokeFunction(\n",
              "            'suggestCharts', [key], {});\n",
              "      } catch (error) {\n",
              "        console.error('Error during call to suggestCharts:', error);\n",
              "      }\n",
              "      quickchartButtonEl.classList.remove('colab-df-spinner');\n",
              "      quickchartButtonEl.classList.add('colab-df-quickchart-complete');\n",
              "    }\n",
              "    (() => {\n",
              "      let quickchartButtonEl =\n",
              "        document.querySelector('#df-f96a7797-4840-4991-899a-391f310823d6 button');\n",
              "      quickchartButtonEl.style.display =\n",
              "        google.colab.kernel.accessAllowed ? 'block' : 'none';\n",
              "    })();\n",
              "  </script>\n",
              "</div>\n",
              "    </div>\n",
              "  </div>\n"
            ]
          },
          "metadata": {},
          "execution_count": 4
        }
      ]
    },
    {
      "cell_type": "code",
      "source": [
        "rets = np.log(data/ data.shift(1))"
      ],
      "metadata": {
        "id": "YjIeQ3Owl2bg"
      },
      "execution_count": 6,
      "outputs": []
    },
    {
      "cell_type": "code",
      "source": [
        "rets.mean() * 252"
      ],
      "metadata": {
        "colab": {
          "base_uri": "https://localhost:8080/"
        },
        "id": "eA6aH584l-U7",
        "outputId": "3cb7903a-0d18-4dc8-ee37-df50e9432547"
      },
      "execution_count": 7,
      "outputs": [
        {
          "output_type": "execute_result",
          "data": {
            "text/plain": [
              "Open        -0.578344\n",
              "High        -0.656758\n",
              "Low         -0.699286\n",
              "Close       -0.670317\n",
              "Adj Close   -0.670317\n",
              "Volume       2.061289\n",
              "dtype: float64"
            ]
          },
          "metadata": {},
          "execution_count": 7
        }
      ]
    },
    {
      "cell_type": "code",
      "source": [
        "rets.cov() * 252"
      ],
      "metadata": {
        "colab": {
          "base_uri": "https://localhost:8080/",
          "height": 238
        },
        "id": "qtApOFB3mJHo",
        "outputId": "6ee75d8a-22e3-4ad0-c09a-5f063c135dd5"
      },
      "execution_count": 8,
      "outputs": [
        {
          "output_type": "execute_result",
          "data": {
            "text/plain": [
              "               Open      High       Low     Close  Adj Close     Volume\n",
              "Open       0.057154  0.045842  0.041806  0.023788   0.023788  -0.066984\n",
              "High       0.045842  0.049081  0.041620  0.032437   0.032437   0.038644\n",
              "Low        0.041806  0.041620  0.043735  0.033937   0.033937  -0.160033\n",
              "Close      0.023788  0.032437  0.033937  0.038195   0.038195  -0.167998\n",
              "Adj Close  0.023788  0.032437  0.033937  0.038195   0.038195  -0.167998\n",
              "Volume    -0.066984  0.038644 -0.160033 -0.167998  -0.167998  18.884858"
            ],
            "text/html": [
              "\n",
              "  <div id=\"df-626a19d5-f635-4efe-a58c-1b7b3c2292ec\" class=\"colab-df-container\">\n",
              "    <div>\n",
              "<style scoped>\n",
              "    .dataframe tbody tr th:only-of-type {\n",
              "        vertical-align: middle;\n",
              "    }\n",
              "\n",
              "    .dataframe tbody tr th {\n",
              "        vertical-align: top;\n",
              "    }\n",
              "\n",
              "    .dataframe thead th {\n",
              "        text-align: right;\n",
              "    }\n",
              "</style>\n",
              "<table border=\"1\" class=\"dataframe\">\n",
              "  <thead>\n",
              "    <tr style=\"text-align: right;\">\n",
              "      <th></th>\n",
              "      <th>Open</th>\n",
              "      <th>High</th>\n",
              "      <th>Low</th>\n",
              "      <th>Close</th>\n",
              "      <th>Adj Close</th>\n",
              "      <th>Volume</th>\n",
              "    </tr>\n",
              "  </thead>\n",
              "  <tbody>\n",
              "    <tr>\n",
              "      <th>Open</th>\n",
              "      <td>0.057154</td>\n",
              "      <td>0.045842</td>\n",
              "      <td>0.041806</td>\n",
              "      <td>0.023788</td>\n",
              "      <td>0.023788</td>\n",
              "      <td>-0.066984</td>\n",
              "    </tr>\n",
              "    <tr>\n",
              "      <th>High</th>\n",
              "      <td>0.045842</td>\n",
              "      <td>0.049081</td>\n",
              "      <td>0.041620</td>\n",
              "      <td>0.032437</td>\n",
              "      <td>0.032437</td>\n",
              "      <td>0.038644</td>\n",
              "    </tr>\n",
              "    <tr>\n",
              "      <th>Low</th>\n",
              "      <td>0.041806</td>\n",
              "      <td>0.041620</td>\n",
              "      <td>0.043735</td>\n",
              "      <td>0.033937</td>\n",
              "      <td>0.033937</td>\n",
              "      <td>-0.160033</td>\n",
              "    </tr>\n",
              "    <tr>\n",
              "      <th>Close</th>\n",
              "      <td>0.023788</td>\n",
              "      <td>0.032437</td>\n",
              "      <td>0.033937</td>\n",
              "      <td>0.038195</td>\n",
              "      <td>0.038195</td>\n",
              "      <td>-0.167998</td>\n",
              "    </tr>\n",
              "    <tr>\n",
              "      <th>Adj Close</th>\n",
              "      <td>0.023788</td>\n",
              "      <td>0.032437</td>\n",
              "      <td>0.033937</td>\n",
              "      <td>0.038195</td>\n",
              "      <td>0.038195</td>\n",
              "      <td>-0.167998</td>\n",
              "    </tr>\n",
              "    <tr>\n",
              "      <th>Volume</th>\n",
              "      <td>-0.066984</td>\n",
              "      <td>0.038644</td>\n",
              "      <td>-0.160033</td>\n",
              "      <td>-0.167998</td>\n",
              "      <td>-0.167998</td>\n",
              "      <td>18.884858</td>\n",
              "    </tr>\n",
              "  </tbody>\n",
              "</table>\n",
              "</div>\n",
              "    <div class=\"colab-df-buttons\">\n",
              "\n",
              "  <div class=\"colab-df-container\">\n",
              "    <button class=\"colab-df-convert\" onclick=\"convertToInteractive('df-626a19d5-f635-4efe-a58c-1b7b3c2292ec')\"\n",
              "            title=\"Convert this dataframe to an interactive table.\"\n",
              "            style=\"display:none;\">\n",
              "\n",
              "  <svg xmlns=\"http://www.w3.org/2000/svg\" height=\"24px\" viewBox=\"0 -960 960 960\">\n",
              "    <path d=\"M120-120v-720h720v720H120Zm60-500h600v-160H180v160Zm220 220h160v-160H400v160Zm0 220h160v-160H400v160ZM180-400h160v-160H180v160Zm440 0h160v-160H620v160ZM180-180h160v-160H180v160Zm440 0h160v-160H620v160Z\"/>\n",
              "  </svg>\n",
              "    </button>\n",
              "\n",
              "  <style>\n",
              "    .colab-df-container {\n",
              "      display:flex;\n",
              "      gap: 12px;\n",
              "    }\n",
              "\n",
              "    .colab-df-convert {\n",
              "      background-color: #E8F0FE;\n",
              "      border: none;\n",
              "      border-radius: 50%;\n",
              "      cursor: pointer;\n",
              "      display: none;\n",
              "      fill: #1967D2;\n",
              "      height: 32px;\n",
              "      padding: 0 0 0 0;\n",
              "      width: 32px;\n",
              "    }\n",
              "\n",
              "    .colab-df-convert:hover {\n",
              "      background-color: #E2EBFA;\n",
              "      box-shadow: 0px 1px 2px rgba(60, 64, 67, 0.3), 0px 1px 3px 1px rgba(60, 64, 67, 0.15);\n",
              "      fill: #174EA6;\n",
              "    }\n",
              "\n",
              "    .colab-df-buttons div {\n",
              "      margin-bottom: 4px;\n",
              "    }\n",
              "\n",
              "    [theme=dark] .colab-df-convert {\n",
              "      background-color: #3B4455;\n",
              "      fill: #D2E3FC;\n",
              "    }\n",
              "\n",
              "    [theme=dark] .colab-df-convert:hover {\n",
              "      background-color: #434B5C;\n",
              "      box-shadow: 0px 1px 3px 1px rgba(0, 0, 0, 0.15);\n",
              "      filter: drop-shadow(0px 1px 2px rgba(0, 0, 0, 0.3));\n",
              "      fill: #FFFFFF;\n",
              "    }\n",
              "  </style>\n",
              "\n",
              "    <script>\n",
              "      const buttonEl =\n",
              "        document.querySelector('#df-626a19d5-f635-4efe-a58c-1b7b3c2292ec button.colab-df-convert');\n",
              "      buttonEl.style.display =\n",
              "        google.colab.kernel.accessAllowed ? 'block' : 'none';\n",
              "\n",
              "      async function convertToInteractive(key) {\n",
              "        const element = document.querySelector('#df-626a19d5-f635-4efe-a58c-1b7b3c2292ec');\n",
              "        const dataTable =\n",
              "          await google.colab.kernel.invokeFunction('convertToInteractive',\n",
              "                                                    [key], {});\n",
              "        if (!dataTable) return;\n",
              "\n",
              "        const docLinkHtml = 'Like what you see? Visit the ' +\n",
              "          '<a target=\"_blank\" href=https://colab.research.google.com/notebooks/data_table.ipynb>data table notebook</a>'\n",
              "          + ' to learn more about interactive tables.';\n",
              "        element.innerHTML = '';\n",
              "        dataTable['output_type'] = 'display_data';\n",
              "        await google.colab.output.renderOutput(dataTable, element);\n",
              "        const docLink = document.createElement('div');\n",
              "        docLink.innerHTML = docLinkHtml;\n",
              "        element.appendChild(docLink);\n",
              "      }\n",
              "    </script>\n",
              "  </div>\n",
              "\n",
              "\n",
              "<div id=\"df-b7a91525-d25e-4c99-981e-9695582faaa3\">\n",
              "  <button class=\"colab-df-quickchart\" onclick=\"quickchart('df-b7a91525-d25e-4c99-981e-9695582faaa3')\"\n",
              "            title=\"Suggest charts.\"\n",
              "            style=\"display:none;\">\n",
              "\n",
              "<svg xmlns=\"http://www.w3.org/2000/svg\" height=\"24px\"viewBox=\"0 0 24 24\"\n",
              "     width=\"24px\">\n",
              "    <g>\n",
              "        <path d=\"M19 3H5c-1.1 0-2 .9-2 2v14c0 1.1.9 2 2 2h14c1.1 0 2-.9 2-2V5c0-1.1-.9-2-2-2zM9 17H7v-7h2v7zm4 0h-2V7h2v10zm4 0h-2v-4h2v4z\"/>\n",
              "    </g>\n",
              "</svg>\n",
              "  </button>\n",
              "\n",
              "<style>\n",
              "  .colab-df-quickchart {\n",
              "      --bg-color: #E8F0FE;\n",
              "      --fill-color: #1967D2;\n",
              "      --hover-bg-color: #E2EBFA;\n",
              "      --hover-fill-color: #174EA6;\n",
              "      --disabled-fill-color: #AAA;\n",
              "      --disabled-bg-color: #DDD;\n",
              "  }\n",
              "\n",
              "  [theme=dark] .colab-df-quickchart {\n",
              "      --bg-color: #3B4455;\n",
              "      --fill-color: #D2E3FC;\n",
              "      --hover-bg-color: #434B5C;\n",
              "      --hover-fill-color: #FFFFFF;\n",
              "      --disabled-bg-color: #3B4455;\n",
              "      --disabled-fill-color: #666;\n",
              "  }\n",
              "\n",
              "  .colab-df-quickchart {\n",
              "    background-color: var(--bg-color);\n",
              "    border: none;\n",
              "    border-radius: 50%;\n",
              "    cursor: pointer;\n",
              "    display: none;\n",
              "    fill: var(--fill-color);\n",
              "    height: 32px;\n",
              "    padding: 0;\n",
              "    width: 32px;\n",
              "  }\n",
              "\n",
              "  .colab-df-quickchart:hover {\n",
              "    background-color: var(--hover-bg-color);\n",
              "    box-shadow: 0 1px 2px rgba(60, 64, 67, 0.3), 0 1px 3px 1px rgba(60, 64, 67, 0.15);\n",
              "    fill: var(--button-hover-fill-color);\n",
              "  }\n",
              "\n",
              "  .colab-df-quickchart-complete:disabled,\n",
              "  .colab-df-quickchart-complete:disabled:hover {\n",
              "    background-color: var(--disabled-bg-color);\n",
              "    fill: var(--disabled-fill-color);\n",
              "    box-shadow: none;\n",
              "  }\n",
              "\n",
              "  .colab-df-spinner {\n",
              "    border: 2px solid var(--fill-color);\n",
              "    border-color: transparent;\n",
              "    border-bottom-color: var(--fill-color);\n",
              "    animation:\n",
              "      spin 1s steps(1) infinite;\n",
              "  }\n",
              "\n",
              "  @keyframes spin {\n",
              "    0% {\n",
              "      border-color: transparent;\n",
              "      border-bottom-color: var(--fill-color);\n",
              "      border-left-color: var(--fill-color);\n",
              "    }\n",
              "    20% {\n",
              "      border-color: transparent;\n",
              "      border-left-color: var(--fill-color);\n",
              "      border-top-color: var(--fill-color);\n",
              "    }\n",
              "    30% {\n",
              "      border-color: transparent;\n",
              "      border-left-color: var(--fill-color);\n",
              "      border-top-color: var(--fill-color);\n",
              "      border-right-color: var(--fill-color);\n",
              "    }\n",
              "    40% {\n",
              "      border-color: transparent;\n",
              "      border-right-color: var(--fill-color);\n",
              "      border-top-color: var(--fill-color);\n",
              "    }\n",
              "    60% {\n",
              "      border-color: transparent;\n",
              "      border-right-color: var(--fill-color);\n",
              "    }\n",
              "    80% {\n",
              "      border-color: transparent;\n",
              "      border-right-color: var(--fill-color);\n",
              "      border-bottom-color: var(--fill-color);\n",
              "    }\n",
              "    90% {\n",
              "      border-color: transparent;\n",
              "      border-bottom-color: var(--fill-color);\n",
              "    }\n",
              "  }\n",
              "</style>\n",
              "\n",
              "  <script>\n",
              "    async function quickchart(key) {\n",
              "      const quickchartButtonEl =\n",
              "        document.querySelector('#' + key + ' button');\n",
              "      quickchartButtonEl.disabled = true;  // To prevent multiple clicks.\n",
              "      quickchartButtonEl.classList.add('colab-df-spinner');\n",
              "      try {\n",
              "        const charts = await google.colab.kernel.invokeFunction(\n",
              "            'suggestCharts', [key], {});\n",
              "      } catch (error) {\n",
              "        console.error('Error during call to suggestCharts:', error);\n",
              "      }\n",
              "      quickchartButtonEl.classList.remove('colab-df-spinner');\n",
              "      quickchartButtonEl.classList.add('colab-df-quickchart-complete');\n",
              "    }\n",
              "    (() => {\n",
              "      let quickchartButtonEl =\n",
              "        document.querySelector('#df-b7a91525-d25e-4c99-981e-9695582faaa3 button');\n",
              "      quickchartButtonEl.style.display =\n",
              "        google.colab.kernel.accessAllowed ? 'block' : 'none';\n",
              "    })();\n",
              "  </script>\n",
              "</div>\n",
              "    </div>\n",
              "  </div>\n"
            ]
          },
          "metadata": {},
          "execution_count": 8
        }
      ]
    },
    {
      "cell_type": "code",
      "source": [
        "weights = np.random.random(noa)\n",
        "weights /= np.sum(weights)"
      ],
      "metadata": {
        "id": "Oa4bVbhNmOVo"
      },
      "execution_count": 15,
      "outputs": []
    },
    {
      "cell_type": "code",
      "source": [
        "weights"
      ],
      "metadata": {
        "colab": {
          "base_uri": "https://localhost:8080/"
        },
        "id": "icgqsYGkm5Fw",
        "outputId": "6593edb4-f669-4538-f1df-67e461b807e9"
      },
      "execution_count": 16,
      "outputs": [
        {
          "output_type": "execute_result",
          "data": {
            "text/plain": [
              "array([0.28583352, 0.23435132, 0.06905591, 0.05724406, 0.03948721,\n",
              "       0.31402798])"
            ]
          },
          "metadata": {},
          "execution_count": 16
        }
      ]
    },
    {
      "cell_type": "code",
      "source": [
        "np.sum(rets.mean() * weights) * 252"
      ],
      "metadata": {
        "colab": {
          "base_uri": "https://localhost:8080/"
        },
        "id": "lZJgGI0ym7_8",
        "outputId": "59c89446-d477-49aa-feab-a51e10f0f3da"
      },
      "execution_count": 17,
      "outputs": [
        {
          "output_type": "execute_result",
          "data": {
            "text/plain": [
              "0.2149497488272818"
            ]
          },
          "metadata": {},
          "execution_count": 17
        }
      ]
    },
    {
      "cell_type": "markdown",
      "source": [
        "# ***Variance***"
      ],
      "metadata": {
        "id": "xBeNO9fwn0Uf"
      }
    },
    {
      "cell_type": "code",
      "source": [
        "np.dot(weights.T, np.dot(rets.cov() * 252, weights))"
      ],
      "metadata": {
        "colab": {
          "base_uri": "https://localhost:8080/"
        },
        "id": "qGF6grQfnD1v",
        "outputId": "451d9d36-f0b3-4053-e961-d9e888b27054"
      },
      "execution_count": 18,
      "outputs": [
        {
          "output_type": "execute_result",
          "data": {
            "text/plain": [
              "1.8591287390416456"
            ]
          },
          "metadata": {},
          "execution_count": 18
        }
      ]
    },
    {
      "cell_type": "markdown",
      "source": [
        "# **Portfolio Standard Deviation Or Volatility **"
      ],
      "metadata": {
        "id": "SObVnQ_0nhnM"
      }
    },
    {
      "cell_type": "code",
      "source": [
        "np.sqrt(np.dot(weights.T, np.dot(rets.cov() * 252, weights)))"
      ],
      "metadata": {
        "colab": {
          "base_uri": "https://localhost:8080/"
        },
        "id": "JjrRQuNtnR2n",
        "outputId": "8512f650-02bd-40ea-e173-d1836ef0ace5"
      },
      "execution_count": 19,
      "outputs": [
        {
          "output_type": "execute_result",
          "data": {
            "text/plain": [
              "1.3634987125192475"
            ]
          },
          "metadata": {},
          "execution_count": 19
        }
      ]
    },
    {
      "cell_type": "code",
      "source": [
        "prets = []\n",
        "pvols = []\n",
        "for p in range (2500):\n",
        "    weights = np.random.random(noa)\n",
        "    weights /= np.sum(weights)\n",
        "    prets.append(np.sum(rets.mean() * weights) * 252)\n",
        "    pvols.append(np.sqrt(np.dot(weights.T,\n",
        "                                np.dot(rets.cov() * 252, weights))))\n",
        "prets = np.array(prets)\n",
        "pvols = np.array(pvols)"
      ],
      "metadata": {
        "id": "PUfcR8JFnf-k"
      },
      "execution_count": 21,
      "outputs": []
    },
    {
      "cell_type": "code",
      "source": [
        "plt.figure(figsize=(8, 4))\n",
        "plt.scatter(pvols, prets, c=prets / pvols, marker='o')\n",
        "plt.grid(True)\n",
        "plt.xlabel('Expected Volatility ')\n",
        "plt.ylabel('Expected Return')\n",
        "plt.colorbar(label='Sharpe Ratio')"
      ],
      "metadata": {
        "colab": {
          "base_uri": "https://localhost:8080/",
          "height": 405
        },
        "id": "ButWTfs0pkry",
        "outputId": "478e1dea-9329-4751-ccb9-91f1243ddd9f"
      },
      "execution_count": 22,
      "outputs": [
        {
          "output_type": "execute_result",
          "data": {
            "text/plain": [
              "<matplotlib.colorbar.Colorbar at 0x7bc6a54cad70>"
            ]
          },
          "metadata": {},
          "execution_count": 22
        },
        {
          "output_type": "display_data",
          "data": {
            "text/plain": [
              "<Figure size 800x400 with 2 Axes>"
            ],
            "image/png": "[encoded data removed]"
          },
          "metadata": {}
        }
      ]
    },
    {
      "cell_type": "code",
      "source": [
        "def statistics(weights):\n",
        "\n",
        "\n",
        "\n",
        "    weights = np.array(weights)\n",
        "    pret = np.sum(rets.mean() * weights) * 252\n",
        "    pvol = np.sqrt(np.dot(weights.T, np.dot(rets.cov() * 252, weights)))\n",
        "    return np.array([pret, pvol, pret/pvol])"
      ],
      "metadata": {
        "id": "gjrld5hhqLm6"
      },
      "execution_count": 23,
      "outputs": []
    },
    {
      "cell_type": "code",
      "source": [
        "import scipy.optimize as sco"
      ],
      "metadata": {
        "id": "UYs2pBdkrADH"
      },
      "execution_count": 24,
      "outputs": []
    },
    {
      "cell_type": "code",
      "source": [
        "def min_func_sharpe(weights):\n",
        "    return -statistics(weights)[2]"
      ],
      "metadata": {
        "id": "mPLxkcs3rIn3"
      },
      "execution_count": 25,
      "outputs": []
    },
    {
      "cell_type": "code",
      "source": [
        "cons = ({'type': 'eq', 'fun': lambda x: np.sum(x) - 1})"
      ],
      "metadata": {
        "id": "aQYJvYDurVJn"
      },
      "execution_count": 26,
      "outputs": []
    },
    {
      "cell_type": "code",
      "source": [
        "bnds = tuple((0, 1) for x in range(noa))"
      ],
      "metadata": {
        "id": "8-hr0aHZrrp-"
      },
      "execution_count": 27,
      "outputs": []
    },
    {
      "cell_type": "code",
      "source": [
        "noa * [1. /noa,]"
      ],
      "metadata": {
        "colab": {
          "base_uri": "https://localhost:8080/"
        },
        "id": "vOawnME_rz4z",
        "outputId": "6b423664-7e61-4059-c148-1d0243ac0f20"
      },
      "execution_count": 28,
      "outputs": [
        {
          "output_type": "execute_result",
          "data": {
            "text/plain": [
              "[0.16666666666666666,\n",
              " 0.16666666666666666,\n",
              " 0.16666666666666666,\n",
              " 0.16666666666666666,\n",
              " 0.16666666666666666,\n",
              " 0.16666666666666666]"
            ]
          },
          "metadata": {},
          "execution_count": 28
        }
      ]
    },
    {
      "cell_type": "code",
      "source": [
        "%%time\n",
        "opts = sco.minimize(min_func_sharpe, noa * [1. / noa], method='SLSQP', bounds= bnds, constraints=cons)"
      ],
      "metadata": {
        "colab": {
          "base_uri": "https://localhost:8080/"
        },
        "id": "8UgEmb-2r364",
        "outputId": "6be7355e-7849-463b-f300-148f586627d6"
      },
      "execution_count": 29,
      "outputs": [
        {
          "output_type": "stream",
          "name": "stdout",
          "text": [
            "CPU times: user 25 ms, sys: 0 ns, total: 25 ms\n",
            "Wall time: 25.1 ms\n"
          ]
        }
      ]
    },
    {
      "cell_type": "code",
      "source": [
        "opts"
      ],
      "metadata": {
        "colab": {
          "base_uri": "https://localhost:8080/"
        },
        "id": "yMtG_3M7sPJ9",
        "outputId": "33003009-a971-48de-b748-9e9c3f78443b"
      },
      "execution_count": 30,
      "outputs": [
        {
          "output_type": "execute_result",
          "data": {
            "text/plain": [
              " message: Optimization terminated successfully\n",
              " success: True\n",
              "  status: 0\n",
              "     fun: -0.4743314691118353\n",
              "       x: [ 0.000e+00  8.465e-15  1.221e-15  1.471e-15  9.714e-16\n",
              "            1.000e+00]\n",
              "     nit: 2\n",
              "     jac: [ 1.314e-01  1.521e-01  1.569e-01  1.500e-01  1.500e-01\n",
              "           -0.000e+00]\n",
              "    nfev: 14\n",
              "    njev: 2"
            ]
          },
          "metadata": {},
          "execution_count": 30
        }
      ]
    },
    {
      "cell_type": "code",
      "source": [
        "opts['x'].round(3)"
      ],
      "metadata": {
        "colab": {
          "base_uri": "https://localhost:8080/"
        },
        "id": "No0GzikZsRsm",
        "outputId": "1c928c24-87e3-442b-c13d-cfa6dc5f2a64"
      },
      "execution_count": 31,
      "outputs": [
        {
          "output_type": "execute_result",
          "data": {
            "text/plain": [
              "array([0., 0., 0., 0., 0., 1.])"
            ]
          },
          "metadata": {},
          "execution_count": 31
        }
      ]
    },
    {
      "cell_type": "code",
      "source": [
        "statistics(opts['x'].round(3))"
      ],
      "metadata": {
        "colab": {
          "base_uri": "https://localhost:8080/"
        },
        "id": "AjDd31C-sX-R",
        "outputId": "d250f5a8-bca3-4ae5-eb1c-c76dafc1917e"
      },
      "execution_count": 32,
      "outputs": [
        {
          "output_type": "execute_result",
          "data": {
            "text/plain": [
              "array([2.06128861, 4.34567121, 0.47433147])"
            ]
          },
          "metadata": {},
          "execution_count": 32
        }
      ]
    },
    {
      "cell_type": "markdown",
      "source": [
        "# ***The Expected Return is About 6.1% And The Expected Volatility is About 3.45% And Sharpe Ratio is 4.74%"
      ],
      "metadata": {
        "id": "2jN8rpKwspQO"
      }
    },
    {
      "cell_type": "code",
      "source": [
        "def min_func_variance(weights):\n",
        "    return statistics(weights)[1] **2"
      ],
      "metadata": {
        "id": "Y2tD61ymsdv-"
      },
      "execution_count": 33,
      "outputs": []
    },
    {
      "cell_type": "code",
      "source": [
        "optv = sco.minimize(min_func_variance, noa * [1. /noa],\n",
        "                       method='SLSQP', bounds=bnds, constraints=cons)"
      ],
      "metadata": {
        "id": "wm9JRQ_Uu-sE"
      },
      "execution_count": 34,
      "outputs": []
    },
    {
      "cell_type": "code",
      "source": [
        "optv"
      ],
      "metadata": {
        "colab": {
          "base_uri": "https://localhost:8080/"
        },
        "id": "rI13wNjbvSwn",
        "outputId": "90b6e721-046d-4d35-cc78-60af1ad049be"
      },
      "execution_count": 35,
      "outputs": [
        {
          "output_type": "execute_result",
          "data": {
            "text/plain": [
              " message: Optimization terminated successfully\n",
              " success: True\n",
              "  status: 0\n",
              "     fun: 0.03230301280815925\n",
              "       x: [ 2.825e-01  0.000e+00  0.000e+00  3.542e-01  3.542e-01\n",
              "            8.988e-03]\n",
              "     nit: 11\n",
              "     jac: [ 6.480e-02  7.256e-02  6.883e-02  6.454e-02  6.454e-02\n",
              "            6.356e-02]\n",
              "    nfev: 77\n",
              "    njev: 11"
            ]
          },
          "metadata": {},
          "execution_count": 35
        }
      ]
    },
    {
      "cell_type": "code",
      "source": [
        "optv['x'].round(3)"
      ],
      "metadata": {
        "colab": {
          "base_uri": "https://localhost:8080/"
        },
        "id": "YduVGpgTvUal",
        "outputId": "e3487bc2-2467-43e5-e9e5-9a2ceb149f0a"
      },
      "execution_count": 36,
      "outputs": [
        {
          "output_type": "execute_result",
          "data": {
            "text/plain": [
              "array([0.283, 0.   , 0.   , 0.354, 0.354, 0.009])"
            ]
          },
          "metadata": {},
          "execution_count": 36
        }
      ]
    },
    {
      "cell_type": "markdown",
      "source": [
        "# **For The Expected Return, Volatility, And Sharpe Ratio**"
      ],
      "metadata": {
        "id": "Unen6wTTvncT"
      }
    },
    {
      "cell_type": "code",
      "source": [
        "statistics(optv['x']).round(3)"
      ],
      "metadata": {
        "colab": {
          "base_uri": "https://localhost:8080/"
        },
        "id": "JKcQAASIvYQe",
        "outputId": "4121170a-f2b3-42f6-cee5-ab90ffe31fb2"
      },
      "execution_count": 37,
      "outputs": [
        {
          "output_type": "execute_result",
          "data": {
            "text/plain": [
              "array([-0.62 ,  0.18 , -3.448])"
            ]
          },
          "metadata": {},
          "execution_count": 37
        }
      ]
    },
    {
      "cell_type": "markdown",
      "source": [
        "# **Efficient Frontier**"
      ],
      "metadata": {
        "id": "7O9jEW6B24D7"
      }
    },
    {
      "cell_type": "code",
      "source": [
        "cons = ({'type': 'eq', 'fun': lambda x: statistics(x)[0] - tret},\n",
        "        {'type': 'eq','fun': lambda x: np.sum(x) - 1})"
      ],
      "metadata": {
        "id": "qvmgSpwmxCpY"
      },
      "execution_count": 40,
      "outputs": []
    },
    {
      "cell_type": "code",
      "source": [
        "bnds = tuple((0, 1) for x in weights)"
      ],
      "metadata": {
        "id": "2DHLZ-GIydJ3"
      },
      "execution_count": 41,
      "outputs": []
    },
    {
      "cell_type": "code",
      "source": [
        "def min_func_port(weights):\n",
        "    return statistics(weights)[1]"
      ],
      "metadata": {
        "id": "OQ4OwLM-yncM"
      },
      "execution_count": 42,
      "outputs": []
    },
    {
      "cell_type": "code",
      "source": [
        "%%time\n",
        "trets = np.linspace(0.0, 0.25, 50)\n",
        "tvols =[]\n",
        "for tret in trets :\n",
        "    cons = ({'type': 'eq', 'fun': lambda x: statistics(x)[0]  - tret},\n",
        "            {'type': 'eq', 'fun': lambda x: np.sum(x) - 1})\n",
        "    res = sco.minimize(min_func_port, noa * [1. / noa,], method='SLSQP',\n",
        "                       bounds = bnds, constraints=cons)\n",
        "    tvols.append(res['fun'])\n",
        "tvols = np.array(tvols)"
      ],
      "metadata": {
        "colab": {
          "base_uri": "https://localhost:8080/"
        },
        "id": "jVJBPEgpy46U",
        "outputId": "90f9a0b3-eca1-4869-ed98-c738cb936381"
      },
      "execution_count": 43,
      "outputs": [
        {
          "output_type": "stream",
          "name": "stdout",
          "text": [
            "CPU times: user 5.14 s, sys: 45.5 ms, total: 5.18 s\n",
            "Wall time: 6.36 s\n"
          ]
        }
      ]
    },
    {
      "cell_type": "code",
      "source": [
        "plt.figure(figsize=(8, 4))\n",
        "plt.scatter(tvols, trets, c=trets/tvols, marker='o')\n",
        "# Random Portfolio Composition\n",
        "plt.scatter(tvols, trets, c=trets/tvols, marker='x')\n",
        "#Efficient Frontier\n",
        "plt.plot(statistics(opts['x'])[1], statistics(opts['x'])[0], 'r*', markersize=15.0)\n",
        "#Portfolio With Highest Sharpe Ratio\n",
        "plt.plot(statistics(optv['x'])[1], statistics(optv['x'])[0], 'y*', markersize=15.0)\n",
        "#Minimum Variance Portfolio\n",
        "plt.grid(True)\n",
        "plt.xlabel('Expected Volatility')\n",
        "plt.ylabel('Expected Return')\n",
        "plt.colorbar(label='Sharpe Raio')"
      ],
      "metadata": {
        "colab": {
          "base_uri": "https://localhost:8080/",
          "height": 405
        },
        "id": "aeHKPhqW0GZz",
        "outputId": "d55a810b-9889-4df2-9304-bc8fd29c0783"
      },
      "execution_count": 45,
      "outputs": [
        {
          "output_type": "execute_result",
          "data": {
            "text/plain": [
              "<matplotlib.colorbar.Colorbar at 0x7bc698904ca0>"
            ]
          },
          "metadata": {},
          "execution_count": 45
        },
        {
          "output_type": "display_data",
          "data": {
            "text/plain": [
              "<Figure size 800x400 with 2 Axes>"
            ],
            "image/png": "[encoded data removed]"
          },
          "metadata": {}
        }
      ]
    },
    {
      "cell_type": "markdown",
      "source": [
        "# ***Capital Market Line***"
      ],
      "metadata": {
        "id": "8PbGyDYn7um6"
      }
    },
    {
      "cell_type": "code",
      "source": [
        "import scipy.interpolate as sci"
      ],
      "metadata": {
        "id": "kyKRR1v53Dyr"
      },
      "execution_count": 46,
      "outputs": []
    },
    {
      "cell_type": "code",
      "source": [
        "ind = np.argmin(tvols)\n",
        "evols = tvols[ind:]\n",
        "erets = trets[ind:]"
      ],
      "metadata": {
        "id": "mbDglHyu3bV7"
      },
      "execution_count": 47,
      "outputs": []
    },
    {
      "cell_type": "code",
      "source": [
        "tck = sci.splrep(evols, erets)"
      ],
      "metadata": {
        "id": "yyDmII0A3nEL"
      },
      "execution_count": 49,
      "outputs": []
    },
    {
      "cell_type": "code",
      "source": [
        "def f(x):\n",
        "    'Efficient Frontier Function'\n",
        "    return sci.splev(x, tck, der=0)\n",
        "\n",
        "def df(x):\n",
        "    'First Derivative of efficient Frontier Functions'\n",
        "    return sci.splev(x, tck, der=1)"
      ],
      "metadata": {
        "id": "X9tt3IB44UtK"
      },
      "execution_count": 50,
      "outputs": []
    },
    {
      "cell_type": "code",
      "source": [
        "def equations(p, rf=0.052):\n",
        "    eq1 = rf - p[0]\n",
        "    eq2 = rf + p[1] * p[2] - f(p[2])\n",
        "    eq3 = p[1] - df(p[2])\n",
        "    return eq1, eq2, eq3"
      ],
      "metadata": {
        "id": "Pu6hTkmC4tlj"
      },
      "execution_count": 51,
      "outputs": []
    },
    {
      "cell_type": "code",
      "source": [
        "opt = sco.fsolve(equations, [0.052, 0.5, 0.15] )"
      ],
      "metadata": {
        "colab": {
          "base_uri": "https://localhost:8080/"
        },
        "id": "vEQbEp_d5NnS",
        "outputId": "e252d401-db85-4f1e-ff9b-0024010020c7"
      },
      "execution_count": 52,
      "outputs": [
        {
          "output_type": "stream",
          "name": "stderr",
          "text": [
            "/usr/local/lib/python3.10/dist-packages/scipy/optimize/_minpack_py.py:177: RuntimeWarning: The iteration is not making good progress, as measured by the \n",
            "  improvement from the last ten iterations.\n",
            "  warnings.warn(msg, RuntimeWarning)\n"
          ]
        }
      ]
    },
    {
      "cell_type": "code",
      "source": [
        "opt"
      ],
      "metadata": {
        "colab": {
          "base_uri": "https://localhost:8080/"
        },
        "id": "iMgwx7-y5uTL",
        "outputId": "0887af83-070b-43ac-9cb1-b729c3f2f3c7"
      },
      "execution_count": 53,
      "outputs": [
        {
          "output_type": "execute_result",
          "data": {
            "text/plain": [
              "array([0.03400087, 0.46328676, 3.62543721])"
            ]
          },
          "metadata": {},
          "execution_count": 53
        }
      ]
    },
    {
      "cell_type": "code",
      "source": [
        "np.round(equations(opt), 6)"
      ],
      "metadata": {
        "colab": {
          "base_uri": "https://localhost:8080/"
        },
        "id": "-JY_xpZi5wFZ",
        "outputId": "260b5803-837a-400f-e4be-252867b29020"
      },
      "execution_count": 54,
      "outputs": [
        {
          "output_type": "execute_result",
          "data": {
            "text/plain": [
              "array([-1.00000e-06,  5.34390e-02, -1.95099e-01])"
            ]
          },
          "metadata": {},
          "execution_count": 54
        }
      ]
    },
    {
      "cell_type": "code",
      "source": [
        "plt.figure(figsize=(8, 4))\n",
        "plt.scatter(pvols, prets, c=(prets - 0.052) / pvols, marker='o')\n",
        "# Random Portfolio Return\n",
        "plt.plot(evols, erets, 'g', lw=4.0)\n",
        "#Efficinet Frontier\n",
        "cx = np.linspace(0.0, 0.3)\n",
        "plt.plot(cx, opt[0] + opt[1] * cx, lw=1.5)\n",
        "#Capital Market Line\n",
        "plt.plot(opt[2], f(opt[2]), 'r*', markersize=15.0)\n",
        "plt.grid(True)\n",
        "plt.axhline(0, color='k', ls='--', lw=2.0)\n",
        "plt.axvline(0, color='k', ls='--', lw=2.0)\n",
        "plt.xlabel('Expected Volatility')\n",
        "plt.ylabel('Expexted Return')\n",
        "plt.colorbar(label='Sharpe Ratio')"
      ],
      "metadata": {
        "colab": {
          "base_uri": "https://localhost:8080/",
          "height": 405
        },
        "id": "Wx89mbwF53NN",
        "outputId": "53c923f0-f090-4db2-f069-672f9c375ab6"
      },
      "execution_count": 57,
      "outputs": [
        {
          "output_type": "execute_result",
          "data": {
            "text/plain": [
              "<matplotlib.colorbar.Colorbar at 0x7bc6986b3160>"
            ]
          },
          "metadata": {},
          "execution_count": 57
        },
        {
          "output_type": "display_data",
          "data": {
            "text/plain": [
              "<Figure size 800x400 with 2 Axes>"
            ],
            "image/png": "[encoded data removed]"
          },
          "metadata": {}
        }
      ]
    }
  ]
}