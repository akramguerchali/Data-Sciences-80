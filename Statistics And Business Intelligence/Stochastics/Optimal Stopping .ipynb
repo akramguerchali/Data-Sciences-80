{
 "cells": [
  {
   "cell_type": "code",
   "execution_count": 24,
   "id": "3c4bbf1f",
   "metadata": {},
   "outputs": [],
   "source": [
    "import yfinance as yf\n",
    "import pandas as pd\n",
    "import matplotlib.pyplot as plt"
   ]
  },
  {
   "cell_type": "code",
   "execution_count": 25,
   "id": "d1ea26ed",
   "metadata": {},
   "outputs": [
    {
     "name": "stdout",
     "output_type": "stream",
     "text": [
      "[*********************100%%**********************]  1 of 1 completed\n",
      "[*********************100%%**********************]  1 of 1 completed\n"
     ]
    }
   ],
   "source": [
    "# Fetch historical stock prices using yfinance\n",
    "def fetch_stock_prices(ticker, start_date, end_date):\n",
    "    stock_data = yf.download(ticker, start=start_date, end=end_date)\n",
    "    return stock_data['Adj Close']\n",
    "\n",
    "# Optimal stopping strategy based on thresholds\n",
    "def optimal_stopping_strategy(stock_prices, buy_threshold, sell_threshold):\n",
    "    positions = []\n",
    "    for i in range(len(stock_prices)):\n",
    "        if stock_prices[i] > buy_threshold:\n",
    "            positions.append(1)  # Buy\n",
    "        elif stock_prices[i] < sell_threshold:\n",
    "            positions.append(-1)  # Sell\n",
    "        else:\n",
    "            positions.append(0)  # Hold\n",
    "    return positions\n",
    "\n",
    "# Backtest the strategy\n",
    "def backtest_strategy(stock_prices, positions):\n",
    "    returns = stock_prices.pct_change().dropna()\n",
    "    strategy_returns = returns * positions[:-1]  # Exclude the last position for alignment\n",
    "    cumulative_strategy_returns = (1 + strategy_returns).cumprod()\n",
    "    return cumulative_strategy_returns\n",
    "# Example usage\n",
    "ticker = 'AAPL'\n",
    "start_date = '2023-12-31'\n",
    "end_date = '2024-01-31'\n",
    "\n",
    "# Fetch stock prices\n",
    "stock_prices = fetch_stock_prices(ticker, start_date, end_date)\n",
    "\n",
    "# Define optimal stopping thresholds\n",
    "buy_threshold = 1.02  # Buy if the stock price exceeds this threshold\n",
    "sell_threshold = 0.98  # Sell if the stock price drops below this threshold\n",
    "\n",
    "# Implement optimal stopping strategy\n",
    "# Example usage\n",
    "ticker = 'AAPL'\n",
    "start_date = '2023-12-31'\n",
    "end_date = '2024-01-31'\n",
    "\n",
    "# Fetch stock prices\n",
    "stock_prices = fetch_stock_prices(ticker, start_date, end_date)\n",
    "\n",
    "# Define optimal stopping thresholds\n",
    "buy_threshold = 1.02  # Buy if the stock price exceeds this threshold\n",
    "sell_threshold = 0.98  # Sell if the stock price drops below this threshold\n",
    "\n",
    "# Implement optimal stopping strategy\n",
    "positions = optimal_stopping_strategy(stock_prices, buy_threshold, sell_threshold)\n",
    "\n",
    "\n",
    "\n",
    "# Backtest the strategy\n",
    "cumulative_returns = backtest_strategy(stock_prices, positions)\n"
   ]
  },
  {
   "cell_type": "code",
   "execution_count": 26,
   "id": "3a49d43a",
   "metadata": {},
   "outputs": [
    {
     "data": {
      "text/plain": [
       "[1, 1, 1, 1, 1, 1, 1, 1, 1]"
      ]
     },
     "execution_count": 26,
     "metadata": {},
     "output_type": "execute_result"
    }
   ],
   "source": [
    "positions"
   ]
  },
  {
   "cell_type": "code",
   "execution_count": 27,
   "id": "f5c13a3d",
   "metadata": {},
   "outputs": [
    {
     "data": {
      "text/plain": [
       "Date\n",
       "2024-01-08    0.999569\n",
       "2024-01-09    0.997307\n",
       "2024-01-10    1.002963\n",
       "2024-01-11    0.999731\n",
       "2024-01-12    1.000700\n",
       "Name: Adj Close, dtype: float64"
      ]
     },
     "execution_count": 27,
     "metadata": {},
     "output_type": "execute_result"
    }
   ],
   "source": [
    "cumulative_returns.tail()"
   ]
  },
  {
   "cell_type": "code",
   "execution_count": null,
   "id": "dbbf88d4",
   "metadata": {},
   "outputs": [],
   "source": []
  }
 ],
 "metadata": {
  "kernelspec": {
   "display_name": "Python 3 (ipykernel)",
   "language": "python",
   "name": "python3"
  },
  "language_info": {
   "codemirror_mode": {
    "name": "ipython",
    "version": 3
   },
   "file_extension": ".py",
   "mimetype": "text/x-python",
   "name": "python",
   "nbconvert_exporter": "python",
   "pygments_lexer": "ipython3",
   "version": "3.9.13"
  }
 },
 "nbformat": 4,
 "nbformat_minor": 5
}
