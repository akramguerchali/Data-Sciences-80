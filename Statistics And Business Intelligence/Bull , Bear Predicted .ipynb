{
 "cells": [
  {
   "cell_type": "code",
   "execution_count": 4,
   "id": "2abd49ff",
   "metadata": {},
   "outputs": [],
   "source": [
    "import yfinance as yf\n",
    "import pandas as pd \n",
    "import numpy as np \n",
    "import matplotlib.pyplot as plt"
   ]
  },
  {
   "cell_type": "markdown",
   "id": "aa272e39",
   "metadata": {},
   "source": [
    "# Probabilities Bull , Bear"
   ]
  },
  {
   "cell_type": "code",
   "execution_count": 5,
   "id": "509c6163",
   "metadata": {},
   "outputs": [],
   "source": [
    "Ticker = 'USDMAD=X'\n",
    "start_date = '2023-01-01'\n",
    "end_date ='2023-12-31'"
   ]
  },
  {
   "cell_type": "code",
   "execution_count": 6,
   "id": "c5d3ac81",
   "metadata": {},
   "outputs": [
    {
     "name": "stdout",
     "output_type": "stream",
     "text": [
      "[*********************100%%**********************]  1 of 1 completed\n"
     ]
    }
   ],
   "source": [
    "data = yf.download(Ticker, start=start_date, end=end_date)"
   ]
  },
  {
   "cell_type": "code",
   "execution_count": 7,
   "id": "8379cd88",
   "metadata": {},
   "outputs": [
    {
     "data": {
      "text/html": [
       "<div>\n",
       "<style scoped>\n",
       "    .dataframe tbody tr th:only-of-type {\n",
       "        vertical-align: middle;\n",
       "    }\n",
       "\n",
       "    .dataframe tbody tr th {\n",
       "        vertical-align: top;\n",
       "    }\n",
       "\n",
       "    .dataframe thead th {\n",
       "        text-align: right;\n",
       "    }\n",
       "</style>\n",
       "<table border=\"1\" class=\"dataframe\">\n",
       "  <thead>\n",
       "    <tr style=\"text-align: right;\">\n",
       "      <th></th>\n",
       "      <th>Open</th>\n",
       "      <th>High</th>\n",
       "      <th>Low</th>\n",
       "      <th>Close</th>\n",
       "      <th>Adj Close</th>\n",
       "      <th>Volume</th>\n",
       "    </tr>\n",
       "    <tr>\n",
       "      <th>Date</th>\n",
       "      <th></th>\n",
       "      <th></th>\n",
       "      <th></th>\n",
       "      <th></th>\n",
       "      <th></th>\n",
       "      <th></th>\n",
       "    </tr>\n",
       "  </thead>\n",
       "  <tbody>\n",
       "    <tr>\n",
       "      <th>2023-01-02</th>\n",
       "      <td>10.432500</td>\n",
       "      <td>10.131838</td>\n",
       "      <td>10.107929</td>\n",
       "      <td>10.432500</td>\n",
       "      <td>10.432500</td>\n",
       "      <td>0</td>\n",
       "    </tr>\n",
       "    <tr>\n",
       "      <th>2023-01-03</th>\n",
       "      <td>10.131838</td>\n",
       "      <td>10.432500</td>\n",
       "      <td>10.154317</td>\n",
       "      <td>10.131838</td>\n",
       "      <td>10.131838</td>\n",
       "      <td>0</td>\n",
       "    </tr>\n",
       "    <tr>\n",
       "      <th>2023-01-04</th>\n",
       "      <td>10.500000</td>\n",
       "      <td>10.500000</td>\n",
       "      <td>10.127529</td>\n",
       "      <td>10.500000</td>\n",
       "      <td>10.500000</td>\n",
       "      <td>0</td>\n",
       "    </tr>\n",
       "    <tr>\n",
       "      <th>2023-01-05</th>\n",
       "      <td>10.440000</td>\n",
       "      <td>10.109982</td>\n",
       "      <td>10.076426</td>\n",
       "      <td>10.440000</td>\n",
       "      <td>10.440000</td>\n",
       "      <td>0</td>\n",
       "    </tr>\n",
       "    <tr>\n",
       "      <th>2023-01-06</th>\n",
       "      <td>10.440000</td>\n",
       "      <td>10.422500</td>\n",
       "      <td>10.103389</td>\n",
       "      <td>10.440000</td>\n",
       "      <td>10.440000</td>\n",
       "      <td>0</td>\n",
       "    </tr>\n",
       "    <tr>\n",
       "      <th>...</th>\n",
       "      <td>...</td>\n",
       "      <td>...</td>\n",
       "      <td>...</td>\n",
       "      <td>...</td>\n",
       "      <td>...</td>\n",
       "      <td>...</td>\n",
       "    </tr>\n",
       "    <tr>\n",
       "      <th>2023-10-31</th>\n",
       "      <td>10.280500</td>\n",
       "      <td>9.964393</td>\n",
       "      <td>9.962299</td>\n",
       "      <td>10.280500</td>\n",
       "      <td>10.280500</td>\n",
       "      <td>0</td>\n",
       "    </tr>\n",
       "    <tr>\n",
       "      <th>2023-11-01</th>\n",
       "      <td>10.280500</td>\n",
       "      <td>9.970373</td>\n",
       "      <td>9.970373</td>\n",
       "      <td>10.280500</td>\n",
       "      <td>10.280500</td>\n",
       "      <td>0</td>\n",
       "    </tr>\n",
       "    <tr>\n",
       "      <th>2023-11-02</th>\n",
       "      <td>10.305000</td>\n",
       "      <td>9.929544</td>\n",
       "      <td>9.923568</td>\n",
       "      <td>10.305000</td>\n",
       "      <td>10.305000</td>\n",
       "      <td>0</td>\n",
       "    </tr>\n",
       "    <tr>\n",
       "      <th>2023-11-03</th>\n",
       "      <td>9.929544</td>\n",
       "      <td>10.305000</td>\n",
       "      <td>9.957260</td>\n",
       "      <td>9.929544</td>\n",
       "      <td>9.929544</td>\n",
       "      <td>0</td>\n",
       "    </tr>\n",
       "    <tr>\n",
       "      <th>2023-11-04</th>\n",
       "      <td>10.210900</td>\n",
       "      <td>10.210900</td>\n",
       "      <td>10.210900</td>\n",
       "      <td>10.210900</td>\n",
       "      <td>10.210900</td>\n",
       "      <td>0</td>\n",
       "    </tr>\n",
       "  </tbody>\n",
       "</table>\n",
       "<p>221 rows × 6 columns</p>\n",
       "</div>"
      ],
      "text/plain": [
       "                 Open       High        Low      Close  Adj Close  Volume\n",
       "Date                                                                     \n",
       "2023-01-02  10.432500  10.131838  10.107929  10.432500  10.432500       0\n",
       "2023-01-03  10.131838  10.432500  10.154317  10.131838  10.131838       0\n",
       "2023-01-04  10.500000  10.500000  10.127529  10.500000  10.500000       0\n",
       "2023-01-05  10.440000  10.109982  10.076426  10.440000  10.440000       0\n",
       "2023-01-06  10.440000  10.422500  10.103389  10.440000  10.440000       0\n",
       "...               ...        ...        ...        ...        ...     ...\n",
       "2023-10-31  10.280500   9.964393   9.962299  10.280500  10.280500       0\n",
       "2023-11-01  10.280500   9.970373   9.970373  10.280500  10.280500       0\n",
       "2023-11-02  10.305000   9.929544   9.923568  10.305000  10.305000       0\n",
       "2023-11-03   9.929544  10.305000   9.957260   9.929544   9.929544       0\n",
       "2023-11-04  10.210900  10.210900  10.210900  10.210900  10.210900       0\n",
       "\n",
       "[221 rows x 6 columns]"
      ]
     },
     "execution_count": 7,
     "metadata": {},
     "output_type": "execute_result"
    }
   ],
   "source": [
    "data"
   ]
  },
  {
   "cell_type": "code",
   "execution_count": 9,
   "id": "0c591551",
   "metadata": {},
   "outputs": [],
   "source": [
    "rets= data['Adj Close'].pct_change().dropna()"
   ]
  },
  {
   "cell_type": "code",
   "execution_count": 10,
   "id": "91aed7f0",
   "metadata": {},
   "outputs": [
    {
     "data": {
      "text/plain": [
       "Date\n",
       "2023-01-03   -0.028820\n",
       "2023-01-04    0.036337\n",
       "2023-01-05   -0.005714\n",
       "2023-01-06    0.000000\n",
       "2023-01-09   -0.010297\n",
       "Name: Adj Close, dtype: float64"
      ]
     },
     "execution_count": 10,
     "metadata": {},
     "output_type": "execute_result"
    }
   ],
   "source": [
    "rets.head()"
   ]
  },
  {
   "cell_type": "code",
   "execution_count": 11,
   "id": "fd4e8bb5",
   "metadata": {},
   "outputs": [],
   "source": [
    "positive = [x for  x in rets if x>=0]"
   ]
  },
  {
   "cell_type": "code",
   "execution_count": 12,
   "id": "5751ec8e",
   "metadata": {},
   "outputs": [
    {
     "data": {
      "text/plain": [
       "[0.03633715430399964,\n",
       " 0.0,\n",
       " 0.0,\n",
       " 0.007692396547491098,\n",
       " 0.03625133609474962,\n",
       " 0.0007863383369750565,\n",
       " 0.03143990996746471,\n",
       " 0.02895303260281179,\n",
       " 0.0024711449173078215,\n",
       " 0.005430923300562052,\n",
       " 0.02665359538723755,\n",
       " 0.0007874383819375108,\n",
       " 0.032866221902770665,\n",
       " 0.00019520303209796808,\n",
       " 0.0034106828567121994,\n",
       " 0.0337605647994943,\n",
       " 0.0007280416078787599,\n",
       " 0.0005322817880888397,\n",
       " 0.002631184829692712,\n",
       " 0.004344813420009475,\n",
       " 0.0007488376675293118,\n",
       " 0.0012334133172853257,\n",
       " 0.029996790967964815,\n",
       " 0.02857771858304159,\n",
       " 0.0029911362765957517,\n",
       " 0.0,\n",
       " 0.004526623292229193,\n",
       " 0.001054619294686976,\n",
       " 0.0001915386499786731,\n",
       " 0.03528875546854171,\n",
       " 0.006853291653959426,\n",
       " 0.0,\n",
       " 0.014547116322095821,\n",
       " 0.002605805367840386,\n",
       " 0.0036537904692621748,\n",
       " 0.03255382728336764,\n",
       " 0.03172911759622421,\n",
       " 0.0010773437340187986,\n",
       " 0.001571534661626961,\n",
       " 0.04190375727890849,\n",
       " 0.0357589778013343,\n",
       " 0.0,\n",
       " 0.023470307580030658,\n",
       " 0.0,\n",
       " 0.034427131832921454,\n",
       " 0.04685083568986981,\n",
       " 0.0,\n",
       " 0.002152654155542111,\n",
       " 9.995048211108859e-05,\n",
       " 0.005244732259514606,\n",
       " 0.04637799039141188,\n",
       " 0.0032650629489190397,\n",
       " 0.007508418847137488,\n",
       " 0.04065243236716354,\n",
       " 0.003927340226318021,\n",
       " 0.0,\n",
       " 0.003953516719773065,\n",
       " 0.026781782087309747,\n",
       " 0.0001966425788102466,\n",
       " 0.0021620644230537778,\n",
       " 0.032856981554403974,\n",
       " 9.809809397931524e-05,\n",
       " 0.0,\n",
       " 0.03926355758327671,\n",
       " 0.0,\n",
       " 0.03700476961900123,\n",
       " 0.00025039622982192533,\n",
       " 0.000803492419213292,\n",
       " 0.03652936788183214,\n",
       " 0.0,\n",
       " 0.03275761677019373,\n",
       " 0.02811103604416365,\n",
       " 0.0,\n",
       " 0.03944143393925037,\n",
       " 0.0019417530610168487,\n",
       " 0.04212075638311763,\n",
       " 0.004176615731584787,\n",
       " 0.0,\n",
       " 0.04077627451279464,\n",
       " 0.0,\n",
       " 0.0,\n",
       " 0.048575571702478726,\n",
       " 0.0012184063307165705,\n",
       " 0.022003562565686474,\n",
       " 0.017142961907075538,\n",
       " 0.00309722859010253,\n",
       " 0.006392824784309248,\n",
       " 0.0025472480490742466,\n",
       " 0.03805340770319199,\n",
       " 0.0012170470934258493,\n",
       " 0.002532472939780428,\n",
       " 0.0027280461471588247,\n",
       " 0.04702730638795316,\n",
       " 0.002357706860743214,\n",
       " 0.0,\n",
       " 0.004904392504889277,\n",
       " 0.014433703493964778,\n",
       " 0.003424514508358678,\n",
       " 0.01249106215115714,\n",
       " 0.0008782170839711778,\n",
       " 0.032090065188363104,\n",
       " 0.028050907880012188,\n",
       " 0.0,\n",
       " 0.011489141703489913,\n",
       " 0.03436196430106686,\n",
       " 0.0008285504754381723,\n",
       " 0.0012174150823489605,\n",
       " 0.03079547715927533,\n",
       " 0.0,\n",
       " 0.004868474667179656,\n",
       " 0.036497433657426415,\n",
       " 0.0009692037249591223,\n",
       " 0.017913804674235312,\n",
       " 0.021152133499676262,\n",
       " 0.0008792325586421956,\n",
       " 0.036455437321948114,\n",
       " 0.035547822425132214,\n",
       " 0.03688886504055078,\n",
       " 0.0,\n",
       " 0.03291220795368055,\n",
       " 0.0,\n",
       " 0.002383142085176093,\n",
       " 0.02833522316138426]"
      ]
     },
     "execution_count": 12,
     "metadata": {},
     "output_type": "execute_result"
    }
   ],
   "source": [
    "positive"
   ]
  },
  {
   "cell_type": "code",
   "execution_count": 13,
   "id": "4f5f6479",
   "metadata": {},
   "outputs": [
    {
     "data": {
      "text/plain": [
       "123"
      ]
     },
     "execution_count": 13,
     "metadata": {},
     "output_type": "execute_result"
    }
   ],
   "source": [
    "len(positive)"
   ]
  },
  {
   "cell_type": "code",
   "execution_count": 14,
   "id": "7039d1b1",
   "metadata": {},
   "outputs": [],
   "source": [
    "Negative = [x for x in rets if x <=0]"
   ]
  },
  {
   "cell_type": "code",
   "execution_count": 15,
   "id": "70758166",
   "metadata": {},
   "outputs": [
    {
     "data": {
      "text/plain": [
       "[-0.02881975020451555,\n",
       " -0.0057143256777808515,\n",
       " 0.0,\n",
       " -0.010296851239498084,\n",
       " 0.0,\n",
       " -0.011371913861130678,\n",
       " -0.0005874222916489868,\n",
       " -0.009207548833656931,\n",
       " -0.03685849961900167,\n",
       " -0.0011786744142129324,\n",
       " -0.027764312172341543,\n",
       " -0.03581036456684061,\n",
       " -0.027004535547828667,\n",
       " -0.00256845293836927,\n",
       " -0.02210811728955786,\n",
       " -0.0024343301937918005,\n",
       " -0.0008782887432178255,\n",
       " -0.029872511497327392,\n",
       " -0.030828931647084223,\n",
       " -8.48142298588428e-05,\n",
       " -0.030123220340352197,\n",
       " -0.0011544091769979392,\n",
       " 0.0,\n",
       " -0.04046800999317002,\n",
       " -0.0013495218344451443,\n",
       " 0.0,\n",
       " -0.0512968179038803,\n",
       " -0.00688287532829257,\n",
       " -0.00964353355126768,\n",
       " -0.03358746057727968,\n",
       " -0.001954985824464961,\n",
       " -0.0010761843135919102,\n",
       " -0.0028403802330309036,\n",
       " -0.03687129342914908,\n",
       " -0.0023025631260323864,\n",
       " -0.0032324413316054956,\n",
       " -0.002555033785806904,\n",
       " -0.003940883089296077,\n",
       " -0.030227043355771532,\n",
       " 0.0,\n",
       " -0.026010939410078038,\n",
       " 0.0,\n",
       " -0.032612872577600815,\n",
       " -0.006663387332512705,\n",
       " -0.00044724363717973947,\n",
       " -0.04570373875808231,\n",
       " -0.00029859268502974157,\n",
       " -0.004081669079097128,\n",
       " -0.00019990554772686409,\n",
       " -0.0014496765163750647,\n",
       " 0.0,\n",
       " -0.04009602232749421,\n",
       " -0.0017752073089446485,\n",
       " -0.03887592863546019,\n",
       " -0.0014705284244037609,\n",
       " 0.0,\n",
       " -0.0351365316475295,\n",
       " -0.03143112557852601,\n",
       " 0.0,\n",
       " -0.00843224232583939,\n",
       " -0.03521116865513063,\n",
       " 0.0,\n",
       " -0.0072978654907317475,\n",
       " -0.006755398359407305,\n",
       " -0.03717927598397619,\n",
       " -0.0028041941805139192,\n",
       " -0.03785603681096672,\n",
       " 0.0,\n",
       " -0.004729315016541946,\n",
       " -0.00010104647704056724,\n",
       " -0.03964893600710562,\n",
       " -0.032796226759232106,\n",
       " 0.0,\n",
       " -0.034887233923977856,\n",
       " -0.006017953473649751,\n",
       " -0.004925637378866532,\n",
       " -0.04041830673184732,\n",
       " 0.0,\n",
       " -0.031964420187083675,\n",
       " -0.00505719468044552,\n",
       " 0.0,\n",
       " -0.008810520607905103,\n",
       " 0.0,\n",
       " -0.029173956401855383,\n",
       " -0.02559814267068261,\n",
       " -0.046523284027139566,\n",
       " -0.01454176001980323,\n",
       " -0.040728640251053494,\n",
       " 0.0,\n",
       " -0.03200147268592213,\n",
       " -0.0034551531395375923,\n",
       " -0.0029178310245809858,\n",
       " -0.008849621968641586,\n",
       " -0.002944036722920318,\n",
       " -0.028536357707472093,\n",
       " -0.0006834134030769823,\n",
       " 0.0,\n",
       " -0.03204221030394094,\n",
       " -0.00097382693834136,\n",
       " -0.030819081019737626,\n",
       " 0.0,\n",
       " -0.00048450722759474374,\n",
       " -0.03502513530572726,\n",
       " -0.0025176744198073253,\n",
       " -0.029376891714124387,\n",
       " -0.013064201211933968,\n",
       " -0.0020473733557323515,\n",
       " -0.03470229582782147,\n",
       " -0.000975632086032796,\n",
       " -0.028669275984226417,\n",
       " -0.03370386820480442,\n",
       " -0.002422443727669088,\n",
       " -0.00359394873039498,\n",
       " 0.0,\n",
       " -0.029739985699534177,\n",
       " 0.0,\n",
       " -0.03643433723477585]"
      ]
     },
     "execution_count": 15,
     "metadata": {},
     "output_type": "execute_result"
    }
   ],
   "source": [
    "Negative"
   ]
  },
  {
   "cell_type": "code",
   "execution_count": null,
   "id": "6164d303",
   "metadata": {},
   "outputs": [],
   "source": [
    "len(Negative)"
   ]
  },
  {
   "cell_type": "code",
   "execution_count": 16,
   "id": "1cb664e9",
   "metadata": {},
   "outputs": [],
   "source": [
    "Neutral = [x if x in Negative else 0 for x in range(1,123)]"
   ]
  },
  {
   "cell_type": "code",
   "execution_count": 17,
   "id": "ba39cbf6",
   "metadata": {},
   "outputs": [
    {
     "data": {
      "text/plain": [
       "[0,\n",
       " 0,\n",
       " 0,\n",
       " 0,\n",
       " 0,\n",
       " 0,\n",
       " 0,\n",
       " 0,\n",
       " 0,\n",
       " 0,\n",
       " 0,\n",
       " 0,\n",
       " 0,\n",
       " 0,\n",
       " 0,\n",
       " 0,\n",
       " 0,\n",
       " 0,\n",
       " 0,\n",
       " 0,\n",
       " 0,\n",
       " 0,\n",
       " 0,\n",
       " 0,\n",
       " 0,\n",
       " 0,\n",
       " 0,\n",
       " 0,\n",
       " 0,\n",
       " 0,\n",
       " 0,\n",
       " 0,\n",
       " 0,\n",
       " 0,\n",
       " 0,\n",
       " 0,\n",
       " 0,\n",
       " 0,\n",
       " 0,\n",
       " 0,\n",
       " 0,\n",
       " 0,\n",
       " 0,\n",
       " 0,\n",
       " 0,\n",
       " 0,\n",
       " 0,\n",
       " 0,\n",
       " 0,\n",
       " 0,\n",
       " 0,\n",
       " 0,\n",
       " 0,\n",
       " 0,\n",
       " 0,\n",
       " 0,\n",
       " 0,\n",
       " 0,\n",
       " 0,\n",
       " 0,\n",
       " 0,\n",
       " 0,\n",
       " 0,\n",
       " 0,\n",
       " 0,\n",
       " 0,\n",
       " 0,\n",
       " 0,\n",
       " 0,\n",
       " 0,\n",
       " 0,\n",
       " 0,\n",
       " 0,\n",
       " 0,\n",
       " 0,\n",
       " 0,\n",
       " 0,\n",
       " 0,\n",
       " 0,\n",
       " 0,\n",
       " 0,\n",
       " 0,\n",
       " 0,\n",
       " 0,\n",
       " 0,\n",
       " 0,\n",
       " 0,\n",
       " 0,\n",
       " 0,\n",
       " 0,\n",
       " 0,\n",
       " 0,\n",
       " 0,\n",
       " 0,\n",
       " 0,\n",
       " 0,\n",
       " 0,\n",
       " 0,\n",
       " 0,\n",
       " 0,\n",
       " 0,\n",
       " 0,\n",
       " 0,\n",
       " 0,\n",
       " 0,\n",
       " 0,\n",
       " 0,\n",
       " 0,\n",
       " 0,\n",
       " 0,\n",
       " 0,\n",
       " 0,\n",
       " 0,\n",
       " 0,\n",
       " 0,\n",
       " 0,\n",
       " 0,\n",
       " 0,\n",
       " 0,\n",
       " 0,\n",
       " 0,\n",
       " 0]"
      ]
     },
     "execution_count": 17,
     "metadata": {},
     "output_type": "execute_result"
    }
   ],
   "source": [
    "Neutral"
   ]
  },
  {
   "cell_type": "code",
   "execution_count": 18,
   "id": "52b79154",
   "metadata": {},
   "outputs": [],
   "source": [
    "Positive = positive[:100]\n",
    "Negative = Negative[:100]\n",
    "Neutral = Neutral[:100]"
   ]
  },
  {
   "cell_type": "code",
   "execution_count": 19,
   "id": "9927042f",
   "metadata": {},
   "outputs": [],
   "source": [
    "Markov_models = pd.DataFrame({'Bear': Negative, 'Bull': Positive, 'Neutral': Neutral})"
   ]
  },
  {
   "cell_type": "code",
   "execution_count": 20,
   "id": "160b44de",
   "metadata": {},
   "outputs": [
    {
     "data": {
      "text/html": [
       "<div>\n",
       "<style scoped>\n",
       "    .dataframe tbody tr th:only-of-type {\n",
       "        vertical-align: middle;\n",
       "    }\n",
       "\n",
       "    .dataframe tbody tr th {\n",
       "        vertical-align: top;\n",
       "    }\n",
       "\n",
       "    .dataframe thead th {\n",
       "        text-align: right;\n",
       "    }\n",
       "</style>\n",
       "<table border=\"1\" class=\"dataframe\">\n",
       "  <thead>\n",
       "    <tr style=\"text-align: right;\">\n",
       "      <th></th>\n",
       "      <th>Bear</th>\n",
       "      <th>Bull</th>\n",
       "      <th>Neutral</th>\n",
       "    </tr>\n",
       "  </thead>\n",
       "  <tbody>\n",
       "    <tr>\n",
       "      <th>0</th>\n",
       "      <td>-0.028820</td>\n",
       "      <td>0.036337</td>\n",
       "      <td>0</td>\n",
       "    </tr>\n",
       "    <tr>\n",
       "      <th>1</th>\n",
       "      <td>-0.005714</td>\n",
       "      <td>0.000000</td>\n",
       "      <td>0</td>\n",
       "    </tr>\n",
       "    <tr>\n",
       "      <th>2</th>\n",
       "      <td>0.000000</td>\n",
       "      <td>0.000000</td>\n",
       "      <td>0</td>\n",
       "    </tr>\n",
       "    <tr>\n",
       "      <th>3</th>\n",
       "      <td>-0.010297</td>\n",
       "      <td>0.007692</td>\n",
       "      <td>0</td>\n",
       "    </tr>\n",
       "    <tr>\n",
       "      <th>4</th>\n",
       "      <td>0.000000</td>\n",
       "      <td>0.036251</td>\n",
       "      <td>0</td>\n",
       "    </tr>\n",
       "    <tr>\n",
       "      <th>...</th>\n",
       "      <td>...</td>\n",
       "      <td>...</td>\n",
       "      <td>...</td>\n",
       "    </tr>\n",
       "    <tr>\n",
       "      <th>95</th>\n",
       "      <td>-0.000683</td>\n",
       "      <td>0.004904</td>\n",
       "      <td>0</td>\n",
       "    </tr>\n",
       "    <tr>\n",
       "      <th>96</th>\n",
       "      <td>0.000000</td>\n",
       "      <td>0.014434</td>\n",
       "      <td>0</td>\n",
       "    </tr>\n",
       "    <tr>\n",
       "      <th>97</th>\n",
       "      <td>-0.032042</td>\n",
       "      <td>0.003425</td>\n",
       "      <td>0</td>\n",
       "    </tr>\n",
       "    <tr>\n",
       "      <th>98</th>\n",
       "      <td>-0.000974</td>\n",
       "      <td>0.012491</td>\n",
       "      <td>0</td>\n",
       "    </tr>\n",
       "    <tr>\n",
       "      <th>99</th>\n",
       "      <td>-0.030819</td>\n",
       "      <td>0.000878</td>\n",
       "      <td>0</td>\n",
       "    </tr>\n",
       "  </tbody>\n",
       "</table>\n",
       "<p>100 rows × 3 columns</p>\n",
       "</div>"
      ],
      "text/plain": [
       "        Bear      Bull  Neutral\n",
       "0  -0.028820  0.036337        0\n",
       "1  -0.005714  0.000000        0\n",
       "2   0.000000  0.000000        0\n",
       "3  -0.010297  0.007692        0\n",
       "4   0.000000  0.036251        0\n",
       "..       ...       ...      ...\n",
       "95 -0.000683  0.004904        0\n",
       "96  0.000000  0.014434        0\n",
       "97 -0.032042  0.003425        0\n",
       "98 -0.000974  0.012491        0\n",
       "99 -0.030819  0.000878        0\n",
       "\n",
       "[100 rows x 3 columns]"
      ]
     },
     "execution_count": 20,
     "metadata": {},
     "output_type": "execute_result"
    }
   ],
   "source": [
    "Markov_models"
   ]
  },
  {
   "cell_type": "code",
   "execution_count": 21,
   "id": "5907a552",
   "metadata": {},
   "outputs": [
    {
     "data": {
      "image/png": "[encoded data removed]",
      "text/plain": [
       "<Figure size 640x480 with 1 Axes>"
      ]
     },
     "metadata": {},
     "output_type": "display_data"
    }
   ],
   "source": [
    "plt.hist(Negative, 50)\n",
    "plt.grid()\n",
    "plt.show()"
   ]
  },
  {
   "cell_type": "code",
   "execution_count": 22,
   "id": "47758582",
   "metadata": {},
   "outputs": [
    {
     "data": {
      "image/png": "[encoded data removed]",
      "text/plain": [
       "<Figure size 640x480 with 1 Axes>"
      ]
     },
     "metadata": {},
     "output_type": "display_data"
    }
   ],
   "source": [
    "plt.hist(Positive, 50)\n",
    "plt.grid()\n",
    "plt.show()"
   ]
  },
  {
   "cell_type": "code",
   "execution_count": 23,
   "id": "ec227266",
   "metadata": {},
   "outputs": [
    {
     "data": {
      "image/png": "[encoded data removed]",
      "text/plain": [
       "<Figure size 640x480 with 1 Axes>"
      ]
     },
     "metadata": {},
     "output_type": "display_data"
    }
   ],
   "source": [
    "plt.hist(rets, 100)\n",
    "plt.grid()\n",
    "plt.show()"
   ]
  },
  {
   "cell_type": "code",
   "execution_count": 24,
   "id": "3221cab8",
   "metadata": {},
   "outputs": [
    {
     "data": {
      "text/plain": [
       "0    -0.028820\n",
       "1    -0.005714\n",
       "2     0.000000\n",
       "3    -0.010297\n",
       "4     0.000000\n",
       "        ...   \n",
       "95   -0.000683\n",
       "96    0.000000\n",
       "97   -0.032042\n",
       "98   -0.000974\n",
       "99   -0.030819\n",
       "Name: Bear, Length: 100, dtype: float64"
      ]
     },
     "execution_count": 24,
     "metadata": {},
     "output_type": "execute_result"
    }
   ],
   "source": [
    "Markov_models['Bear']"
   ]
  },
  {
   "cell_type": "code",
   "execution_count": 25,
   "id": "4e333711",
   "metadata": {},
   "outputs": [
    {
     "data": {
      "text/plain": [
       "count    100.000000\n",
       "mean      -0.014538\n",
       "std        0.015875\n",
       "min       -0.051297\n",
       "25%       -0.030822\n",
       "50%       -0.005866\n",
       "75%       -0.000950\n",
       "max        0.000000\n",
       "Name: Bear, dtype: float64"
      ]
     },
     "execution_count": 25,
     "metadata": {},
     "output_type": "execute_result"
    }
   ],
   "source": [
    "Markov_models['Bear'].describe()"
   ]
  },
  {
   "cell_type": "code",
   "execution_count": 26,
   "id": "e3b9b1e8",
   "metadata": {},
   "outputs": [
    {
     "data": {
      "text/plain": [
       "count    100.000000\n",
       "mean       0.013464\n",
       "std        0.016157\n",
       "min        0.000000\n",
       "25%        0.000777\n",
       "50%        0.003539\n",
       "75%        0.030358\n",
       "max        0.048576\n",
       "Name: Bull, dtype: float64"
      ]
     },
     "execution_count": 26,
     "metadata": {},
     "output_type": "execute_result"
    }
   ],
   "source": [
    "Markov_models['Bull'].describe()"
   ]
  },
  {
   "cell_type": "code",
   "execution_count": 27,
   "id": "da3660ac",
   "metadata": {},
   "outputs": [
    {
     "data": {
      "text/plain": [
       "count    100.000000\n",
       "mean      -0.014538\n",
       "std        0.015875\n",
       "min       -0.051297\n",
       "25%       -0.030822\n",
       "50%       -0.005866\n",
       "75%       -0.000950\n",
       "max        0.000000\n",
       "Name: Bear, dtype: float64"
      ]
     },
     "execution_count": 27,
     "metadata": {},
     "output_type": "execute_result"
    }
   ],
   "source": [
    "Markov_models['Bear'].describe()"
   ]
  },
  {
   "cell_type": "code",
   "execution_count": 28,
   "id": "c6a03545",
   "metadata": {},
   "outputs": [
    {
     "data": {
      "text/plain": [
       "(100,)"
      ]
     },
     "execution_count": 28,
     "metadata": {},
     "output_type": "execute_result"
    }
   ],
   "source": [
    "Markov_models['Bear'].shape"
   ]
  },
  {
   "cell_type": "code",
   "execution_count": 29,
   "id": "65a03d7b",
   "metadata": {},
   "outputs": [
    {
     "data": {
      "text/plain": [
       "(100,)"
      ]
     },
     "execution_count": 29,
     "metadata": {},
     "output_type": "execute_result"
    }
   ],
   "source": [
    "Markov_models['Bull'].shape"
   ]
  },
  {
   "cell_type": "markdown",
   "id": "8c19fecb",
   "metadata": {},
   "source": [
    "# Linear Regression Predict Bull , Bear"
   ]
  },
  {
   "cell_type": "code",
   "execution_count": 30,
   "id": "f7701683",
   "metadata": {},
   "outputs": [],
   "source": [
    "X = np.array(Markov_models['Bear']).reshape(100, -1)\n"
   ]
  },
  {
   "cell_type": "code",
   "execution_count": 31,
   "id": "6c7bf8a7",
   "metadata": {},
   "outputs": [
    {
     "data": {
      "text/plain": [
       "array([[-2.88197502e-02],\n",
       "       [-5.71432568e-03],\n",
       "       [ 0.00000000e+00],\n",
       "       [-1.02968512e-02],\n",
       "       [ 0.00000000e+00],\n",
       "       [-1.13719139e-02],\n",
       "       [-5.87422292e-04],\n",
       "       [-9.20754883e-03],\n",
       "       [-3.68584996e-02],\n",
       "       [-1.17867441e-03],\n",
       "       [-2.77643122e-02],\n",
       "       [-3.58103646e-02],\n",
       "       [-2.70045355e-02],\n",
       "       [-2.56845294e-03],\n",
       "       [-2.21081173e-02],\n",
       "       [-2.43433019e-03],\n",
       "       [-8.78288743e-04],\n",
       "       [-2.98725115e-02],\n",
       "       [-3.08289316e-02],\n",
       "       [-8.48142299e-05],\n",
       "       [-3.01232203e-02],\n",
       "       [-1.15440918e-03],\n",
       "       [ 0.00000000e+00],\n",
       "       [-4.04680100e-02],\n",
       "       [-1.34952183e-03],\n",
       "       [ 0.00000000e+00],\n",
       "       [-5.12968179e-02],\n",
       "       [-6.88287533e-03],\n",
       "       [-9.64353355e-03],\n",
       "       [-3.35874606e-02],\n",
       "       [-1.95498582e-03],\n",
       "       [-1.07618431e-03],\n",
       "       [-2.84038023e-03],\n",
       "       [-3.68712934e-02],\n",
       "       [-2.30256313e-03],\n",
       "       [-3.23244133e-03],\n",
       "       [-2.55503379e-03],\n",
       "       [-3.94088309e-03],\n",
       "       [-3.02270434e-02],\n",
       "       [ 0.00000000e+00],\n",
       "       [-2.60109394e-02],\n",
       "       [ 0.00000000e+00],\n",
       "       [-3.26128726e-02],\n",
       "       [-6.66338733e-03],\n",
       "       [-4.47243637e-04],\n",
       "       [-4.57037388e-02],\n",
       "       [-2.98592685e-04],\n",
       "       [-4.08166908e-03],\n",
       "       [-1.99905548e-04],\n",
       "       [-1.44967652e-03],\n",
       "       [ 0.00000000e+00],\n",
       "       [-4.00960223e-02],\n",
       "       [-1.77520731e-03],\n",
       "       [-3.88759286e-02],\n",
       "       [-1.47052842e-03],\n",
       "       [ 0.00000000e+00],\n",
       "       [-3.51365316e-02],\n",
       "       [-3.14311256e-02],\n",
       "       [ 0.00000000e+00],\n",
       "       [-8.43224233e-03],\n",
       "       [-3.52111687e-02],\n",
       "       [ 0.00000000e+00],\n",
       "       [-7.29786549e-03],\n",
       "       [-6.75539836e-03],\n",
       "       [-3.71792760e-02],\n",
       "       [-2.80419418e-03],\n",
       "       [-3.78560368e-02],\n",
       "       [ 0.00000000e+00],\n",
       "       [-4.72931502e-03],\n",
       "       [-1.01046477e-04],\n",
       "       [-3.96489360e-02],\n",
       "       [-3.27962268e-02],\n",
       "       [ 0.00000000e+00],\n",
       "       [-3.48872339e-02],\n",
       "       [-6.01795347e-03],\n",
       "       [-4.92563738e-03],\n",
       "       [-4.04183067e-02],\n",
       "       [ 0.00000000e+00],\n",
       "       [-3.19644202e-02],\n",
       "       [-5.05719468e-03],\n",
       "       [ 0.00000000e+00],\n",
       "       [-8.81052061e-03],\n",
       "       [ 0.00000000e+00],\n",
       "       [-2.91739564e-02],\n",
       "       [-2.55981427e-02],\n",
       "       [-4.65232840e-02],\n",
       "       [-1.45417600e-02],\n",
       "       [-4.07286403e-02],\n",
       "       [ 0.00000000e+00],\n",
       "       [-3.20014727e-02],\n",
       "       [-3.45515314e-03],\n",
       "       [-2.91783102e-03],\n",
       "       [-8.84962197e-03],\n",
       "       [-2.94403672e-03],\n",
       "       [-2.85363577e-02],\n",
       "       [-6.83413403e-04],\n",
       "       [ 0.00000000e+00],\n",
       "       [-3.20422103e-02],\n",
       "       [-9.73826938e-04],\n",
       "       [-3.08190810e-02]])"
      ]
     },
     "execution_count": 31,
     "metadata": {},
     "output_type": "execute_result"
    }
   ],
   "source": [
    "X"
   ]
  },
  {
   "cell_type": "code",
   "execution_count": 32,
   "id": "22927f15",
   "metadata": {},
   "outputs": [],
   "source": [
    "y = np.array(Markov_models['Bull']).reshape(100, -1)"
   ]
  },
  {
   "cell_type": "code",
   "execution_count": 33,
   "id": "7cfad1bd",
   "metadata": {},
   "outputs": [
    {
     "data": {
      "text/plain": [
       "array([[3.63371543e-02],\n",
       "       [0.00000000e+00],\n",
       "       [0.00000000e+00],\n",
       "       [7.69239655e-03],\n",
       "       [3.62513361e-02],\n",
       "       [7.86338337e-04],\n",
       "       [3.14399100e-02],\n",
       "       [2.89530326e-02],\n",
       "       [2.47114492e-03],\n",
       "       [5.43092330e-03],\n",
       "       [2.66535954e-02],\n",
       "       [7.87438382e-04],\n",
       "       [3.28662219e-02],\n",
       "       [1.95203032e-04],\n",
       "       [3.41068286e-03],\n",
       "       [3.37605648e-02],\n",
       "       [7.28041608e-04],\n",
       "       [5.32281788e-04],\n",
       "       [2.63118483e-03],\n",
       "       [4.34481342e-03],\n",
       "       [7.48837668e-04],\n",
       "       [1.23341332e-03],\n",
       "       [2.99967910e-02],\n",
       "       [2.85777186e-02],\n",
       "       [2.99113628e-03],\n",
       "       [0.00000000e+00],\n",
       "       [4.52662329e-03],\n",
       "       [1.05461929e-03],\n",
       "       [1.91538650e-04],\n",
       "       [3.52887555e-02],\n",
       "       [6.85329165e-03],\n",
       "       [0.00000000e+00],\n",
       "       [1.45471163e-02],\n",
       "       [2.60580537e-03],\n",
       "       [3.65379047e-03],\n",
       "       [3.25538273e-02],\n",
       "       [3.17291176e-02],\n",
       "       [1.07734373e-03],\n",
       "       [1.57153466e-03],\n",
       "       [4.19037573e-02],\n",
       "       [3.57589778e-02],\n",
       "       [0.00000000e+00],\n",
       "       [2.34703076e-02],\n",
       "       [0.00000000e+00],\n",
       "       [3.44271318e-02],\n",
       "       [4.68508357e-02],\n",
       "       [0.00000000e+00],\n",
       "       [2.15265416e-03],\n",
       "       [9.99504821e-05],\n",
       "       [5.24473226e-03],\n",
       "       [4.63779904e-02],\n",
       "       [3.26506295e-03],\n",
       "       [7.50841885e-03],\n",
       "       [4.06524324e-02],\n",
       "       [3.92734023e-03],\n",
       "       [0.00000000e+00],\n",
       "       [3.95351672e-03],\n",
       "       [2.67817821e-02],\n",
       "       [1.96642579e-04],\n",
       "       [2.16206442e-03],\n",
       "       [3.28569816e-02],\n",
       "       [9.80980940e-05],\n",
       "       [0.00000000e+00],\n",
       "       [3.92635576e-02],\n",
       "       [0.00000000e+00],\n",
       "       [3.70047696e-02],\n",
       "       [2.50396230e-04],\n",
       "       [8.03492419e-04],\n",
       "       [3.65293679e-02],\n",
       "       [0.00000000e+00],\n",
       "       [3.27576168e-02],\n",
       "       [2.81110360e-02],\n",
       "       [0.00000000e+00],\n",
       "       [3.94414339e-02],\n",
       "       [1.94175306e-03],\n",
       "       [4.21207564e-02],\n",
       "       [4.17661573e-03],\n",
       "       [0.00000000e+00],\n",
       "       [4.07762745e-02],\n",
       "       [0.00000000e+00],\n",
       "       [0.00000000e+00],\n",
       "       [4.85755717e-02],\n",
       "       [1.21840633e-03],\n",
       "       [2.20035626e-02],\n",
       "       [1.71429619e-02],\n",
       "       [3.09722859e-03],\n",
       "       [6.39282478e-03],\n",
       "       [2.54724805e-03],\n",
       "       [3.80534077e-02],\n",
       "       [1.21704709e-03],\n",
       "       [2.53247294e-03],\n",
       "       [2.72804615e-03],\n",
       "       [4.70273064e-02],\n",
       "       [2.35770686e-03],\n",
       "       [0.00000000e+00],\n",
       "       [4.90439250e-03],\n",
       "       [1.44337035e-02],\n",
       "       [3.42451451e-03],\n",
       "       [1.24910622e-02],\n",
       "       [8.78217084e-04]])"
      ]
     },
     "execution_count": 33,
     "metadata": {},
     "output_type": "execute_result"
    }
   ],
   "source": [
    "y"
   ]
  },
  {
   "cell_type": "code",
   "execution_count": 34,
   "id": "756f63df",
   "metadata": {},
   "outputs": [],
   "source": [
    "from sklearn.linear_model import LinearRegression"
   ]
  },
  {
   "cell_type": "code",
   "execution_count": 35,
   "id": "02ecb366",
   "metadata": {},
   "outputs": [],
   "source": [
    "lm = LinearRegression()"
   ]
  },
  {
   "cell_type": "code",
   "execution_count": 36,
   "id": "e7870d75",
   "metadata": {},
   "outputs": [
    {
     "data": {
      "text/plain": [
       "0.013396671161934326"
      ]
     },
     "execution_count": 36,
     "metadata": {},
     "output_type": "execute_result"
    }
   ],
   "source": [
    "lm.fit(X, y)\n",
    "lm.score(X, y)"
   ]
  },
  {
   "cell_type": "code",
   "execution_count": 37,
   "id": "fede0d84",
   "metadata": {},
   "outputs": [
    {
     "data": {
      "text/plain": [
       "array([[0.01514598],\n",
       "       [0.0124242 ],\n",
       "       [0.01175106],\n",
       "       [0.01296401]])"
      ]
     },
     "execution_count": 37,
     "metadata": {},
     "output_type": "execute_result"
    }
   ],
   "source": [
    "yhat = lm.predict(X)\n",
    "yhat[0:4]"
   ]
  },
  {
   "cell_type": "code",
   "execution_count": 38,
   "id": "4830e0cd",
   "metadata": {},
   "outputs": [],
   "source": [
    "from sklearn.metrics import mean_squared_error"
   ]
  },
  {
   "cell_type": "code",
   "execution_count": 43,
   "id": "1bf24dc4",
   "metadata": {},
   "outputs": [
    {
     "data": {
      "text/plain": [
       "0.0002549769865476122"
      ]
     },
     "execution_count": 43,
     "metadata": {},
     "output_type": "execute_result"
    }
   ],
   "source": [
    "mean_squared_error(Markov_models['Bull'], yhat)"
   ]
  },
  {
   "cell_type": "code",
   "execution_count": 44,
   "id": "ea9c70e8",
   "metadata": {},
   "outputs": [
    {
     "data": {
      "text/plain": [
       "0.013396671161934326"
      ]
     },
     "execution_count": 44,
     "metadata": {},
     "output_type": "execute_result"
    }
   ],
   "source": [
    "lm.score(X,y)"
   ]
  },
  {
   "cell_type": "code",
   "execution_count": 46,
   "id": "d06fc030",
   "metadata": {},
   "outputs": [
    {
     "data": {
      "text/plain": [
       "[<matplotlib.lines.Line2D at 0x2a49d9d68e0>]"
      ]
     },
     "execution_count": 46,
     "metadata": {},
     "output_type": "execute_result"
    },
    {
     "data": {
      "image/png": "[encoded data removed]",
      "text/plain": [
       "<Figure size 640x480 with 1 Axes>"
      ]
     },
     "metadata": {},
     "output_type": "display_data"
    }
   ],
   "source": [
    "plt.plot(yhat)"
   ]
  },
  {
   "cell_type": "code",
   "execution_count": null,
   "id": "b8381e94",
   "metadata": {},
   "outputs": [],
   "source": []
  }
 ],
 "metadata": {
  "kernelspec": {
   "display_name": "Python 3 (ipykernel)",
   "language": "python",
   "name": "python3"
  },
  "language_info": {
   "codemirror_mode": {
    "name": "ipython",
    "version": 3
   },
   "file_extension": ".py",
   "mimetype": "text/x-python",
   "name": "python",
   "nbconvert_exporter": "python",
   "pygments_lexer": "ipython3",
   "version": "3.9.13"
  }
 },
 "nbformat": 4,
 "nbformat_minor": 5
}
